{
 "cells": [
  {
   "cell_type": "code",
   "execution_count": 26,
   "metadata": {
    "collapsed": true
   },
   "outputs": [],
   "source": [
    "import numpy as np\n",
    "import pandas as pd\n",
    "import scipy.stats\n",
    "\n",
    "from ipywidgets import interact, interactive, fixed, interact_manual\n",
    "import ipywidgets as widgets"
   ]
  },
  {
   "cell_type": "markdown",
   "metadata": {},
   "source": [
    "I came across a probability problem that seems simple but is actually interesting and fun. The problem is as follows:\n",
    "\n",
    "You are planning a trip and want to know if it will be raining. You call 3 of your friends that live at your destination to ask them if it is raining. Your friends are lazy and might answer without actually checking so you can assume that they will lie with probability 1/3.\n",
    "\n",
    "What is the probability that it is raining, given that all three said it was raining?\n",
    "\n",
    "Here, I generalize this problem to an arbitrary number of friends, probability of lying and prior probability of rain.\n",
    "\n",
    "Playing with the sliders intuitively illustrates the effect of these parameters on the probability that it is raining. "
   ]
  },
  {
   "cell_type": "code",
   "execution_count": 27,
   "metadata": {
    "collapsed": true
   },
   "outputs": [],
   "source": [
    "def posterior(n_say_rain, n_friends=3, p_rain=0.2, p_lying=1/3):\n",
    "    \"\"\"Posterior probability of rain given number\n",
    "       of friends who said it's raining, the total number of friends\n",
    "       and prior probability of rain.\n",
    "       \n",
    "    It returns P(R=1|f). Take 1 - the value to get the probability\n",
    "    of no rain.\n",
    "    \"\"\"\n",
    "    f_given_r1 = scipy.stats.binom.pmf(n_say_rain, n_friends, 1-p_lying)\n",
    "    f_given_r0 = scipy.stats.binom.pmf(n_say_rain, n_friends, p_lying)\n",
    "    num = f_given_r1 * p_rain\n",
    "    return (\n",
    "        \"There is {:.2%} change that it it raining.\"\n",
    "        \"\".format(num / (num + (1-p_rain) * f_given_r0))\n",
    "    )"
   ]
  },
  {
   "cell_type": "code",
   "execution_count": 30,
   "metadata": {},
   "outputs": [
    {
     "data": {
      "application/vnd.jupyter.widget-view+json": {
       "model_id": "51a87cad33a3496b84dd1d06bad6f643"
      }
     },
     "metadata": {},
     "output_type": "display_data"
    }
   ],
   "source": [
    "n_friends_widget = widgets.IntSlider(min=1, max=20, step=1, value=3)\n",
    "n_say_rain_widget = widgets.IntSlider(min=0, max=20, step=1, value=3)\n",
    "\n",
    "def update_n_say_rain_range(*args):\n",
    "    n_say_rain_widget.max = n_friends_widget.value\n",
    "n_say_rain_widget.observe(update_n_say_rain_range, \"value\")\n",
    "\n",
    "_ = interact(\n",
    "    posterior,\n",
    "    n_say_rain=n_say_rain_widget,\n",
    "    n_friends=n_friends_widget,\n",
    "    p_rain=(0.01, 0.99),\n",
    "    p_lying=(0.01, 0.99)\n",
    ")"
   ]
  }
 ],
 "metadata": {
  "kernelspec": {
   "display_name": "Python 3",
   "language": "python",
   "name": "python3"
  },
  "language_info": {
   "codemirror_mode": {
    "name": "ipython",
    "version": 3
   },
   "file_extension": ".py",
   "mimetype": "text/x-python",
   "name": "python",
   "nbconvert_exporter": "python",
   "pygments_lexer": "ipython3",
   "version": "3.6.4"
  }
 },
 "nbformat": 4,
 "nbformat_minor": 2
}
