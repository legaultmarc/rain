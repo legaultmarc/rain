{
 "cells": [
  {
   "cell_type": "code",
   "execution_count": 1,
   "metadata": {
    "collapsed": true
   },
   "outputs": [],
   "source": [
    "import numpy as np\n",
    "import pandas as pd\n",
    "import scipy.stats\n",
    "\n",
    "from ipywidgets import interact, interactive, fixed, interact_manual\n",
    "import ipywidgets as widgets"
   ]
  },
  {
   "cell_type": "markdown",
   "metadata": {},
   "source": [
    "I came across a probability problem that seems simple but is actually interesting and fun. The problem is as follows:\n",
    "\n",
    "You are planning a trip and want to know if it will be raining. You call 3 of your friends that live at your destination to ask them if it is raining. Your friends are lazy and might answer without actually checking so you can assume that they will lie with probability 1/3.\n",
    "\n",
    "What is the probability that it is raining, given that all three said it was raining?\n",
    "\n",
    "Here, I generalize this problem to an arbitrary number of friends, probability of lying and prior probability of rain.\n",
    "\n",
    "Playing with the sliders intuitively illustrates the effect of these parameters on the probability that it is raining. "
   ]
  },
  {
   "cell_type": "code",
   "execution_count": 2,
   "metadata": {
    "collapsed": true
   },
   "outputs": [],
   "source": [
    "def posterior(n_say_rain, n_friends=3, p_rain=0.2, p_lying=1/3):\n",
    "    \"\"\"Posterior probability of rain given number\n",
    "       of friends who said it's raining, the total number of friends\n",
    "       and prior probability of rain.\n",
    "       \n",
    "    It returns P(R=1|f). Take 1 - the value to get the probability\n",
    "    of no rain.\n",
    "    \"\"\"\n",
    "    f_given_r1 = scipy.stats.binom.pmf(n_say_rain, n_friends, 1-p_lying)\n",
    "    f_given_r0 = scipy.stats.binom.pmf(n_say_rain, n_friends, p_lying)\n",
    "    num = f_given_r1 * p_rain\n",
    "    return (\n",
    "        \"There is {:.2%} change that it it raining.\"\n",
    "        \"\".format(num / (num + (1-p_rain) * f_given_r0))\n",
    "    )"
   ]
  },
  {
   "cell_type": "code",
   "execution_count": 3,
   "metadata": {},
   "outputs": [
    {
     "data": {
      "application/vnd.jupyter.widget-view+json": {
       "model_id": "5a99ce81bbb243a2881ce59110356755"
      }
     },
     "metadata": {},
     "output_type": "display_data"
    },
    {
     "data": {
      "text/plain": [
       "<function __main__.posterior>"
      ]
     },
     "execution_count": 3,
     "metadata": {},
     "output_type": "execute_result"
    }
   ],
   "source": [
    "n_friends_widget = widgets.IntSlider(min=1, max=20, step=1, value=3)\n",
    "n_say_rain_widget = widgets.IntSlider(min=0, max=20, step=1, value=3)\n",
    "\n",
    "def update_n_say_rain_range(*args):\n",
    "    n_say_rain_widget.max = n_friends_widget.value\n",
    "n_say_rain_widget.observe(update_n_say_rain_range, \"value\")\n",
    "\n",
    "interact(\n",
    "    posterior,\n",
    "    n_say_rain=n_say_rain_widget,\n",
    "    n_friends=n_friends_widget,\n",
    "    p_rain=(0.01, 0.99),\n",
    "    p_lying=(0.01, 0.99)\n",
    ")"
   ]
  }
 ],
 "metadata": {
  "kernelspec": {
   "display_name": "Python 3",
   "language": "python",
   "name": "python3"
  },
  "language_info": {
   "codemirror_mode": {
    "name": "ipython",
    "version": 3
   },
   "file_extension": ".py",
   "mimetype": "text/x-python",
   "name": "python",
   "nbconvert_exporter": "python",
   "pygments_lexer": "ipython3",
   "version": "3.6.4"
  },
  "widgets": {
   "application/vnd.jupyter.widget-state+json": {
    "state": {
     "00b5ec1631aa445d9f443db5ffac34fd": {
      "model_module": "jupyter-js-widgets",
      "model_module_version": "~2.1.4",
      "model_name": "LayoutModel",
      "state": {
       "_model_module_version": "~2.1.4",
       "_view_module_version": "~2.1.4"
      }
     },
     "00d03bb31bdc4395b7ed8b804d81fd13": {
      "model_module": "jupyter-js-widgets",
      "model_module_version": "~2.1.4",
      "model_name": "LayoutModel",
      "state": {
       "_model_module_version": "~2.1.4",
       "_view_module_version": "~2.1.4"
      }
     },
     "01ee81a9e0b84c2ca6f05be93e225a0d": {
      "model_module": "jupyter-js-widgets",
      "model_module_version": "~2.1.4",
      "model_name": "SliderStyleModel",
      "state": {
       "_model_module_version": "~2.1.4",
       "_view_module_version": "~2.1.4"
      }
     },
     "03fe19e0d46f4ea1846c172976deec14": {
      "model_module": "jupyter-js-widgets",
      "model_module_version": "~2.1.4",
      "model_name": "FloatSliderModel",
      "state": {
       "_model_module_version": "~2.1.4",
       "_view_module_version": "~2.1.4",
       "description": "p_rain",
       "layout": "IPY_MODEL_3fbff1bc719940c4a7945c01b47ba745",
       "max": 0.99,
       "min": 0.01,
       "step": 0.1,
       "value": 0.2
      }
     },
     "0466d1e7fb654d5a85335c3aa6e7c8fb": {
      "model_module": "jupyter-js-widgets",
      "model_module_version": "~2.1.4",
      "model_name": "LayoutModel",
      "state": {
       "_model_module_version": "~2.1.4",
       "_view_module_version": "~2.1.4"
      }
     },
     "04a69d2f20264a06b161228bcab9763b": {
      "model_module": "jupyter-js-widgets",
      "model_module_version": "~2.1.4",
      "model_name": "VBoxModel",
      "state": {
       "_dom_classes": [
        "widget-interact"
       ],
       "_model_module_version": "~2.1.4",
       "_view_module_version": "~2.1.4",
       "children": [
        "IPY_MODEL_c631e8e9b31d4d20b3f25dbd6e398e8d",
        "IPY_MODEL_154461f53e1a445ab853756cd345672b",
        "IPY_MODEL_39578144df7b4b29836cc9a04b5a2c7e",
        "IPY_MODEL_fb78f09bec674e548aa0b58ed98396fb",
        "IPY_MODEL_73c282966ca64fae8f45a1a922684d57"
       ],
       "layout": "IPY_MODEL_3a28393a68354a399ffd8f43639b9f97"
      }
     },
     "04ecbd459752450dac72a60ddc480ff4": {
      "model_module": "jupyter-js-widgets",
      "model_module_version": "~2.1.4",
      "model_name": "LayoutModel",
      "state": {
       "_model_module_version": "~2.1.4",
       "_view_module_version": "~2.1.4"
      }
     },
     "062f43ba28d0401ca7066624b2968e63": {
      "model_module": "jupyter-js-widgets",
      "model_module_version": "~2.1.4",
      "model_name": "OutputModel",
      "state": {
       "_dom_classes": [],
       "_model_module": "jupyter-js-widgets",
       "_model_module_version": "~2.1.4",
       "_view_module": "jupyter-js-widgets",
       "_view_module_version": "~2.1.4",
       "layout": "IPY_MODEL_7756eb2f0d4c48438af9c20600870760",
       "msg_throttle": 1
      }
     },
     "086aaba821a94675a19c4225290ce0a8": {
      "model_module": "jupyter-js-widgets",
      "model_module_version": "~2.1.4",
      "model_name": "FloatSliderModel",
      "state": {
       "_model_module_version": "~2.1.4",
       "_view_module_version": "~2.1.4",
       "description": "p_lying",
       "layout": "IPY_MODEL_38cc404e35e643988b8b01ea33baad03",
       "max": 1,
       "min": -0.3333333333333333,
       "step": 0.1,
       "value": 0.3333333333333333
      }
     },
     "08b528e62cb54d42a6363586e33c9067": {
      "model_module": "jupyter-js-widgets",
      "model_module_version": "~2.1.4",
      "model_name": "IntSliderModel",
      "state": {
       "_model_module_version": "~2.1.4",
       "_view_module_version": "~2.1.4",
       "description": "n_friends",
       "layout": "IPY_MODEL_575c92dd763246ccae7b03ad1aa88b06",
       "max": 9,
       "min": -3,
       "style": "IPY_MODEL_ff88220d629b43e7b8fca3297443c30e",
       "value": 3
      }
     },
     "0980fe9becb7457196d7c1db671bab35": {
      "model_module": "jupyter-js-widgets",
      "model_module_version": "~2.1.4",
      "model_name": "LayoutModel",
      "state": {
       "_model_module_version": "~2.1.4",
       "_view_module_version": "~2.1.4"
      }
     },
     "0989451aa03340638207bd339cd0fe9f": {
      "model_module": "jupyter-js-widgets",
      "model_module_version": "~2.1.4",
      "model_name": "FloatSliderModel",
      "state": {
       "_model_module_version": "~2.1.4",
       "_view_module_version": "~2.1.4",
       "description": "p_lying",
       "layout": "IPY_MODEL_f984e558dd264585a5c70f95fee93f20",
       "max": 0.99,
       "min": 0.01,
       "step": 0.1,
       "value": 0.3333333333333333
      }
     },
     "0af02e0d272e48e1890b89cbbbf6e673": {
      "model_module": "jupyter-js-widgets",
      "model_module_version": "~2.1.4",
      "model_name": "FloatSliderModel",
      "state": {
       "_model_module_version": "~2.1.4",
       "_view_module_version": "~2.1.4",
       "description": "p_lying",
       "layout": "IPY_MODEL_1058eef59aed4217bb1fe2b92c4a2aba",
       "max": 1,
       "min": -0.3333333333333333,
       "step": 0.1,
       "value": 0.3333333333333333
      }
     },
     "0b5711d8bb554327b0010f9e4711905d": {
      "model_module": "jupyter-js-widgets",
      "model_module_version": "~2.1.4",
      "model_name": "LayoutModel",
      "state": {
       "_model_module_version": "~2.1.4",
       "_view_module_version": "~2.1.4"
      }
     },
     "0bc10f3267d344bcb1b2102cd7cd3015": {
      "model_module": "jupyter-js-widgets",
      "model_module_version": "~2.1.4",
      "model_name": "LayoutModel",
      "state": {
       "_model_module_version": "~2.1.4",
       "_view_module_version": "~2.1.4"
      }
     },
     "0c48a2fea3054b19bd3e62ae11dd9c36": {
      "model_module": "jupyter-js-widgets",
      "model_module_version": "~2.1.4",
      "model_name": "VBoxModel",
      "state": {
       "_dom_classes": [
        "widget-interact"
       ],
       "_model_module_version": "~2.1.4",
       "_view_module_version": "~2.1.4",
       "children": [
        "IPY_MODEL_c82c9ace46154977bebb9025399e921b",
        "IPY_MODEL_bfceea41aee445efb2b29496b6996881",
        "IPY_MODEL_3304079e7b0f4c57aee7e00ab3709a1e",
        "IPY_MODEL_d6a526f58fb746349d9da65b1afeecfe",
        "IPY_MODEL_fb54b92471e745919a8f0635eb00cc78"
       ],
       "layout": "IPY_MODEL_e86eddd92b45449eba229f3dbb16c540"
      }
     },
     "0cf4ae52a89f4e4e8b3bdee94b75caba": {
      "model_module": "jupyter-js-widgets",
      "model_module_version": "~2.1.4",
      "model_name": "VBoxModel",
      "state": {
       "_dom_classes": [
        "widget-interact"
       ],
       "_model_module_version": "~2.1.4",
       "_view_module_version": "~2.1.4",
       "children": [
        "IPY_MODEL_76f567a913b94588a00383d3c823759d",
        "IPY_MODEL_936b9fe99eb54b85b47bc5c586f1dd81",
        "IPY_MODEL_ca71da81f8f04006b341bd41b8a667b6",
        "IPY_MODEL_7ad990c9caa44502815a799ee5f27b00",
        "IPY_MODEL_062f43ba28d0401ca7066624b2968e63"
       ],
       "layout": "IPY_MODEL_00b5ec1631aa445d9f443db5ffac34fd"
      }
     },
     "0d1e1f2c7d5c48fd9b79751bdcd47cea": {
      "model_module": "jupyter-js-widgets",
      "model_module_version": "~2.1.4",
      "model_name": "VBoxModel",
      "state": {
       "_dom_classes": [
        "widget-interact"
       ],
       "_model_module_version": "~2.1.4",
       "_view_module_version": "~2.1.4",
       "children": [
        "IPY_MODEL_1d62cabfe64d43fca3bc91c5e502d8f3",
        "IPY_MODEL_4d4f33c1d3434dde90a23590f9fcabb2",
        "IPY_MODEL_58892424fc514164972cadecb6c47b94",
        "IPY_MODEL_5b438854110a47d1a0fcbbd9e77df198",
        "IPY_MODEL_b6ee408837bd418b91ce7688a60fd089"
       ],
       "layout": "IPY_MODEL_d26076f0451d4287932444690c06a3df"
      }
     },
     "0faf7176559041c0ba8f6121d35608e9": {
      "model_module": "jupyter-js-widgets",
      "model_module_version": "~2.1.4",
      "model_name": "LayoutModel",
      "state": {
       "_model_module_version": "~2.1.4",
       "_view_module_version": "~2.1.4"
      }
     },
     "1058eef59aed4217bb1fe2b92c4a2aba": {
      "model_module": "jupyter-js-widgets",
      "model_module_version": "~2.1.4",
      "model_name": "LayoutModel",
      "state": {
       "_model_module_version": "~2.1.4",
       "_view_module_version": "~2.1.4"
      }
     },
     "1294f0ba7cca4385a26176f87335950d": {
      "model_module": "jupyter-js-widgets",
      "model_module_version": "~2.1.4",
      "model_name": "LayoutModel",
      "state": {
       "_model_module_version": "~2.1.4",
       "_view_module_version": "~2.1.4"
      }
     },
     "13841132acc64523a217dcf1c35fa8bc": {
      "model_module": "jupyter-js-widgets",
      "model_module_version": "~2.1.4",
      "model_name": "IntSliderModel",
      "state": {
       "_model_module_version": "~2.1.4",
       "_view_module_version": "~2.1.4",
       "description": "n_say_rain",
       "layout": "IPY_MODEL_219c0375e18641c39770e0c6aa2bc6af",
       "max": 3,
       "style": "IPY_MODEL_cc569f581c304603bcafcd43061149c2",
       "value": 1
      }
     },
     "139e562ba8984131830a6b196ad9690d": {
      "model_module": "jupyter-js-widgets",
      "model_module_version": "~2.1.4",
      "model_name": "LayoutModel",
      "state": {
       "_model_module_version": "~2.1.4",
       "_view_module_version": "~2.1.4"
      }
     },
     "1407dc545b644effa835ee81f81b650b": {
      "model_module": "jupyter-js-widgets",
      "model_module_version": "~2.1.4",
      "model_name": "LayoutModel",
      "state": {
       "_model_module_version": "~2.1.4",
       "_view_module_version": "~2.1.4"
      }
     },
     "154461f53e1a445ab853756cd345672b": {
      "model_module": "jupyter-js-widgets",
      "model_module_version": "~2.1.4",
      "model_name": "IntSliderModel",
      "state": {
       "_model_module_version": "~2.1.4",
       "_view_module_version": "~2.1.4",
       "description": "n_friends",
       "layout": "IPY_MODEL_662389c3258945d2bd21648effaf116d",
       "max": 9,
       "min": -3,
       "style": "IPY_MODEL_cc5da2cd179b44f5bcc37d912a5c4149",
       "value": 3
      }
     },
     "1625c5fdeaf245e28297c41f604b57a4": {
      "model_module": "jupyter-js-widgets",
      "model_module_version": "~2.1.4",
      "model_name": "LayoutModel",
      "state": {
       "_model_module_version": "~2.1.4",
       "_view_module_version": "~2.1.4"
      }
     },
     "17e69db75d0c44188f4378f43aed8628": {
      "model_module": "jupyter-js-widgets",
      "model_module_version": "~2.1.4",
      "model_name": "LayoutModel",
      "state": {
       "_model_module_version": "~2.1.4",
       "_view_module_version": "~2.1.4"
      }
     },
     "19978afc4d3f442bb308b518fab3ab1f": {
      "model_module": "jupyter-js-widgets",
      "model_module_version": "~2.1.4",
      "model_name": "LayoutModel",
      "state": {
       "_model_module_version": "~2.1.4",
       "_view_module_version": "~2.1.4"
      }
     },
     "1a94123e12e241d7bf6af43708e38f86": {
      "model_module": "jupyter-js-widgets",
      "model_module_version": "~2.1.4",
      "model_name": "OutputModel",
      "state": {
       "_dom_classes": [],
       "_model_module": "jupyter-js-widgets",
       "_model_module_version": "~2.1.4",
       "_view_module": "jupyter-js-widgets",
       "_view_module_version": "~2.1.4",
       "layout": "IPY_MODEL_8b1e5fe8a0654103bd915592e84a5cd1",
       "msg_throttle": 1
      }
     },
     "1aa41ca097e6484689f5c5c7dda4d37d": {
      "model_module": "jupyter-js-widgets",
      "model_module_version": "~2.1.4",
      "model_name": "LayoutModel",
      "state": {
       "_model_module_version": "~2.1.4",
       "_view_module_version": "~2.1.4"
      }
     },
     "1bcec0cd9716494e98fa005fd01e4eee": {
      "model_module": "jupyter-js-widgets",
      "model_module_version": "~2.1.4",
      "model_name": "LayoutModel",
      "state": {
       "_model_module_version": "~2.1.4",
       "_view_module_version": "~2.1.4"
      }
     },
     "1d62cabfe64d43fca3bc91c5e502d8f3": {
      "model_module": "jupyter-js-widgets",
      "model_module_version": "~2.1.4",
      "model_name": "IntSliderModel",
      "state": {
       "_model_module_version": "~2.1.4",
       "_view_module_version": "~2.1.4",
       "description": "n_say_rain",
       "layout": "IPY_MODEL_71f310e62d464aa4bc9de65f8810381b",
       "max": 10,
       "style": "IPY_MODEL_1ec96cd5ff29473f8081dec0ea3b13eb",
       "value": 3
      }
     },
     "1dc4607dcdb34041bd3f0e6ee989105f": {
      "model_module": "jupyter-js-widgets",
      "model_module_version": "~2.1.4",
      "model_name": "LayoutModel",
      "state": {
       "_model_module_version": "~2.1.4",
       "_view_module_version": "~2.1.4"
      }
     },
     "1ec96cd5ff29473f8081dec0ea3b13eb": {
      "model_module": "jupyter-js-widgets",
      "model_module_version": "~2.1.4",
      "model_name": "SliderStyleModel",
      "state": {
       "_model_module_version": "~2.1.4",
       "_view_module_version": "~2.1.4"
      }
     },
     "1f1f444e694e4c6a88c977663a7e2215": {
      "model_module": "jupyter-js-widgets",
      "model_module_version": "~2.1.4",
      "model_name": "SliderStyleModel",
      "state": {
       "_model_module_version": "~2.1.4",
       "_view_module_version": "~2.1.4"
      }
     },
     "1f29682131e44ab3b00afb3602dfcd7b": {
      "model_module": "jupyter-js-widgets",
      "model_module_version": "~2.1.4",
      "model_name": "IntSliderModel",
      "state": {
       "_model_module_version": "~2.1.4",
       "_view_module_version": "~2.1.4",
       "description": "n_say_rain",
       "layout": "IPY_MODEL_beaa6d0e00fd4db996df3ca8da5f0e71",
       "max": 10,
       "style": "IPY_MODEL_8c989cdf425a4efb808a93592429416f",
       "value": 3
      }
     },
     "200e67f6555a4d8b8d6f2442c7309989": {
      "model_module": "jupyter-js-widgets",
      "model_module_version": "~2.1.4",
      "model_name": "LayoutModel",
      "state": {
       "_model_module_version": "~2.1.4",
       "_view_module_version": "~2.1.4"
      }
     },
     "2080c48e74fe464285b2d9469f41a0b1": {
      "model_module": "jupyter-js-widgets",
      "model_module_version": "~2.1.4",
      "model_name": "IntSliderModel",
      "state": {
       "_model_module_version": "~2.1.4",
       "_view_module_version": "~2.1.4",
       "description": "n_say_rain",
       "layout": "IPY_MODEL_ddde9243fcea4260bd349542638ae039",
       "max": 20,
       "style": "IPY_MODEL_30902e892a4a40818b03c860d6333b48",
       "value": 11
      }
     },
     "219c0375e18641c39770e0c6aa2bc6af": {
      "model_module": "jupyter-js-widgets",
      "model_module_version": "~2.1.4",
      "model_name": "LayoutModel",
      "state": {
       "_model_module_version": "~2.1.4",
       "_view_module_version": "~2.1.4"
      }
     },
     "2257987faa78407cadec78ffb3e09849": {
      "model_module": "jupyter-js-widgets",
      "model_module_version": "~2.1.4",
      "model_name": "FloatSliderModel",
      "state": {
       "_model_module_version": "~2.1.4",
       "_view_module_version": "~2.1.4",
       "description": "p_rain",
       "layout": "IPY_MODEL_4a89d2ab8cb1431499e48f99a5547728",
       "max": 0.6000000000000001,
       "min": -0.2,
       "step": 0.1,
       "value": 0.6
      }
     },
     "22ae303061434529ad9572489aa3dadb": {
      "model_module": "jupyter-js-widgets",
      "model_module_version": "~2.1.4",
      "model_name": "LayoutModel",
      "state": {
       "_model_module_version": "~2.1.4",
       "_view_module_version": "~2.1.4"
      }
     },
     "2379cdcdea5d448b902adbf9213d872e": {
      "model_module": "jupyter-js-widgets",
      "model_module_version": "~2.1.4",
      "model_name": "LayoutModel",
      "state": {
       "_model_module_version": "~2.1.4",
       "_view_module_version": "~2.1.4"
      }
     },
     "23e7e9a0e18d460f8376872704aff61d": {
      "model_module": "jupyter-js-widgets",
      "model_module_version": "~2.1.4",
      "model_name": "SliderStyleModel",
      "state": {
       "_model_module_version": "~2.1.4",
       "_view_module_version": "~2.1.4"
      }
     },
     "25b1871c5df44a51a771d75a44829b1a": {
      "model_module": "jupyter-js-widgets",
      "model_module_version": "~2.1.4",
      "model_name": "VBoxModel",
      "state": {
       "_dom_classes": [
        "widget-interact"
       ],
       "_model_module_version": "~2.1.4",
       "_view_module_version": "~2.1.4",
       "children": [
        "IPY_MODEL_3e9ecd2994a446549d1f9e78b8a54965",
        "IPY_MODEL_e310a45ae2eb4cb0a0dd80a73d69b37d",
        "IPY_MODEL_2257987faa78407cadec78ffb3e09849",
        "IPY_MODEL_086aaba821a94675a19c4225290ce0a8",
        "IPY_MODEL_6d58844a992d404297023b4a2d556ef4"
       ],
       "layout": "IPY_MODEL_610110cfc2ea4d9eb70d69e1b4ac2d99"
      }
     },
     "25b94cbd40ab4d88a8b32399f353fc43": {
      "model_module": "jupyter-js-widgets",
      "model_module_version": "~2.1.4",
      "model_name": "LayoutModel",
      "state": {
       "_model_module_version": "~2.1.4",
       "_view_module_version": "~2.1.4"
      }
     },
     "265d3eb0cbc74f1981467694ce707eeb": {
      "model_module": "jupyter-js-widgets",
      "model_module_version": "~2.1.4",
      "model_name": "IntSliderModel",
      "state": {
       "_model_module_version": "~2.1.4",
       "_view_module_version": "~2.1.4",
       "description": "n_say_rain",
       "layout": "IPY_MODEL_7af5acb772d542968365d816ca1f97a1",
       "max": 20,
       "style": "IPY_MODEL_986944fbdd47446a876a5671fb417d26",
       "value": 3
      }
     },
     "2737dd274b504e9ab4bae8753f1f6fe3": {
      "model_module": "jupyter-js-widgets",
      "model_module_version": "~2.1.4",
      "model_name": "FloatSliderModel",
      "state": {
       "_model_module_version": "~2.1.4",
       "_view_module_version": "~2.1.4",
       "description": "p_rain",
       "layout": "IPY_MODEL_1625c5fdeaf245e28297c41f604b57a4",
       "max": 0.99,
       "min": 0.01,
       "step": 0.1,
       "value": 0.2
      }
     },
     "273921268bbf41bba1e1f7a83c054066": {
      "model_module": "jupyter-js-widgets",
      "model_module_version": "~2.1.4",
      "model_name": "LayoutModel",
      "state": {
       "_model_module_version": "~2.1.4",
       "_view_module_version": "~2.1.4"
      }
     },
     "27e4b7269a4942bbbb48b00db1f269e9": {
      "model_module": "jupyter-js-widgets",
      "model_module_version": "~2.1.4",
      "model_name": "OutputModel",
      "state": {
       "_dom_classes": [],
       "_model_module": "jupyter-js-widgets",
       "_model_module_version": "~2.1.4",
       "_view_module": "jupyter-js-widgets",
       "_view_module_version": "~2.1.4",
       "layout": "IPY_MODEL_591ef718452545a885946d4762b0f1ed",
       "msg_throttle": 1
      }
     },
     "2bb5c97c8c1641698bb24128f92347d3": {
      "model_module": "jupyter-js-widgets",
      "model_module_version": "~2.1.4",
      "model_name": "IntSliderModel",
      "state": {
       "_model_module_version": "~2.1.4",
       "_view_module_version": "~2.1.4",
       "description": "n_friends",
       "layout": "IPY_MODEL_59806c2ac13d4ea89a5380d1026ea6f2",
       "max": 20,
       "min": 1,
       "style": "IPY_MODEL_b732ae6b9e26480b81e3b7f751ff885b",
       "value": 20
      }
     },
     "2cc107aa6c6245e2bb2c163db5366cff": {
      "model_module": "jupyter-js-widgets",
      "model_module_version": "~2.1.4",
      "model_name": "LayoutModel",
      "state": {
       "_model_module_version": "~2.1.4",
       "_view_module_version": "~2.1.4"
      }
     },
     "307d0247501942ef8a84374101281ffe": {
      "model_module": "jupyter-js-widgets",
      "model_module_version": "~2.1.4",
      "model_name": "SliderStyleModel",
      "state": {
       "_model_module_version": "~2.1.4",
       "_view_module_version": "~2.1.4"
      }
     },
     "30902e892a4a40818b03c860d6333b48": {
      "model_module": "jupyter-js-widgets",
      "model_module_version": "~2.1.4",
      "model_name": "SliderStyleModel",
      "state": {
       "_model_module_version": "~2.1.4",
       "_view_module_version": "~2.1.4"
      }
     },
     "3196ca0478aa4d6fb70cdd6e67b5a6b5": {
      "model_module": "jupyter-js-widgets",
      "model_module_version": "~2.1.4",
      "model_name": "LayoutModel",
      "state": {
       "_model_module_version": "~2.1.4",
       "_view_module_version": "~2.1.4"
      }
     },
     "3215ae2def07495482aab8c486734a84": {
      "model_module": "jupyter-js-widgets",
      "model_module_version": "~2.1.4",
      "model_name": "LayoutModel",
      "state": {
       "_model_module_version": "~2.1.4",
       "_view_module_version": "~2.1.4"
      }
     },
     "3304079e7b0f4c57aee7e00ab3709a1e": {
      "model_module": "jupyter-js-widgets",
      "model_module_version": "~2.1.4",
      "model_name": "FloatSliderModel",
      "state": {
       "_model_module_version": "~2.1.4",
       "_view_module_version": "~2.1.4",
       "description": "p_rain",
       "layout": "IPY_MODEL_4d1f6fa93f824f7a8a8726abb48aee37",
       "max": 0.99,
       "min": 0.01,
       "step": 0.1,
       "value": 0.2
      }
     },
     "3366c916e9344d0fa615a352e0879bbb": {
      "model_module": "jupyter-js-widgets",
      "model_module_version": "~2.1.4",
      "model_name": "IntSliderModel",
      "state": {
       "_model_module_version": "~2.1.4",
       "_view_module_version": "~2.1.4",
       "layout": "IPY_MODEL_5061db37501f45df984cf4ffa74240a0",
       "max": 10,
       "style": "IPY_MODEL_8d373f1fc2e445f1ac4eb131c9471760",
       "value": 3
      }
     },
     "337f270f439b42ffa0cf4099acf62429": {
      "model_module": "jupyter-js-widgets",
      "model_module_version": "~2.1.4",
      "model_name": "LayoutModel",
      "state": {
       "_model_module_version": "~2.1.4",
       "_view_module_version": "~2.1.4"
      }
     },
     "3437a94f79e345ae92e2d5a74d208f87": {
      "model_module": "jupyter-js-widgets",
      "model_module_version": "~2.1.4",
      "model_name": "LayoutModel",
      "state": {
       "_model_module_version": "~2.1.4",
       "_view_module_version": "~2.1.4"
      }
     },
     "35586ef57add409bb2de4d706571ff11": {
      "model_module": "jupyter-js-widgets",
      "model_module_version": "~2.1.4",
      "model_name": "LayoutModel",
      "state": {
       "_model_module_version": "~2.1.4",
       "_view_module_version": "~2.1.4"
      }
     },
     "35fab175dd1940e9842a38fb21ed369f": {
      "model_module": "jupyter-js-widgets",
      "model_module_version": "~2.1.4",
      "model_name": "LayoutModel",
      "state": {
       "_model_module_version": "~2.1.4",
       "_view_module_version": "~2.1.4"
      }
     },
     "37c76784edef4234ba77e1e093260381": {
      "model_module": "jupyter-js-widgets",
      "model_module_version": "~2.1.4",
      "model_name": "LayoutModel",
      "state": {
       "_model_module_version": "~2.1.4",
       "_view_module_version": "~2.1.4"
      }
     },
     "382e105b9e064994958304252c18cb5c": {
      "model_module": "jupyter-js-widgets",
      "model_module_version": "~2.1.4",
      "model_name": "LayoutModel",
      "state": {
       "_model_module_version": "~2.1.4",
       "_view_module_version": "~2.1.4"
      }
     },
     "38cc404e35e643988b8b01ea33baad03": {
      "model_module": "jupyter-js-widgets",
      "model_module_version": "~2.1.4",
      "model_name": "LayoutModel",
      "state": {
       "_model_module_version": "~2.1.4",
       "_view_module_version": "~2.1.4"
      }
     },
     "39578144df7b4b29836cc9a04b5a2c7e": {
      "model_module": "jupyter-js-widgets",
      "model_module_version": "~2.1.4",
      "model_name": "FloatSliderModel",
      "state": {
       "_model_module_version": "~2.1.4",
       "_view_module_version": "~2.1.4",
       "description": "p_rain",
       "layout": "IPY_MODEL_d6b369c607844657bd6a557c77e87ade",
       "max": 0.6000000000000001,
       "min": -0.2,
       "step": 0.1,
       "value": 0.2
      }
     },
     "396b690e8ecb427285b2223d6f12ff04": {
      "model_module": "jupyter-js-widgets",
      "model_module_version": "~2.1.4",
      "model_name": "FloatSliderModel",
      "state": {
       "_model_module_version": "~2.1.4",
       "_view_module_version": "~2.1.4",
       "description": "p_lying",
       "layout": "IPY_MODEL_a91498df8167409a9a483f7474c92208",
       "max": 0.999,
       "min": 0.01,
       "step": 0.1,
       "value": 0.91
      }
     },
     "3a0097bf754b40aa8109475c8194ded3": {
      "model_module": "jupyter-js-widgets",
      "model_module_version": "~2.1.4",
      "model_name": "VBoxModel",
      "state": {
       "_dom_classes": [
        "widget-interact"
       ],
       "_model_module_version": "~2.1.4",
       "_view_module_version": "~2.1.4",
       "children": [
        "IPY_MODEL_8049dc50c43e48948f852d7fad8eb26a",
        "IPY_MODEL_eec6fc7d00564a35bbbf90417f8670d2",
        "IPY_MODEL_90f94cb64e8a4a08894353437d0307b5",
        "IPY_MODEL_587def21c29845449ca03c1cc667c912",
        "IPY_MODEL_9841e44ebcb84263a313e3f551b4ebdd"
       ],
       "layout": "IPY_MODEL_b68eb3287c724c4fab0befb4f1712384"
      }
     },
     "3a28393a68354a399ffd8f43639b9f97": {
      "model_module": "jupyter-js-widgets",
      "model_module_version": "~2.1.4",
      "model_name": "LayoutModel",
      "state": {
       "_model_module_version": "~2.1.4",
       "_view_module_version": "~2.1.4"
      }
     },
     "3cd4b18735ac4a10ba57372f5a6cd568": {
      "model_module": "jupyter-js-widgets",
      "model_module_version": "~2.1.4",
      "model_name": "LayoutModel",
      "state": {
       "_model_module_version": "~2.1.4",
       "_view_module_version": "~2.1.4"
      }
     },
     "3db2b38befce499597dd1a75f7481bba": {
      "model_module": "jupyter-js-widgets",
      "model_module_version": "~2.1.4",
      "model_name": "OutputModel",
      "state": {
       "_dom_classes": [],
       "_model_module": "jupyter-js-widgets",
       "_model_module_version": "~2.1.4",
       "_view_module": "jupyter-js-widgets",
       "_view_module_version": "~2.1.4",
       "layout": "IPY_MODEL_00d03bb31bdc4395b7ed8b804d81fd13",
       "msg_throttle": 1
      }
     },
     "3e8147dbb0684930a06e2770ec469ab2": {
      "model_module": "jupyter-js-widgets",
      "model_module_version": "~2.1.4",
      "model_name": "SliderStyleModel",
      "state": {
       "_model_module_version": "~2.1.4",
       "_view_module_version": "~2.1.4"
      }
     },
     "3e9ecd2994a446549d1f9e78b8a54965": {
      "model_module": "jupyter-js-widgets",
      "model_module_version": "~2.1.4",
      "model_name": "IntSliderModel",
      "state": {
       "_model_module_version": "~2.1.4",
       "_view_module_version": "~2.1.4",
       "description": "n_say_rain",
       "layout": "IPY_MODEL_37c76784edef4234ba77e1e093260381",
       "max": 9,
       "style": "IPY_MODEL_e7e91afb1d4e4a7eaa34a1daba98d491",
       "value": 2
      }
     },
     "3fbff1bc719940c4a7945c01b47ba745": {
      "model_module": "jupyter-js-widgets",
      "model_module_version": "~2.1.4",
      "model_name": "LayoutModel",
      "state": {
       "_model_module_version": "~2.1.4",
       "_view_module_version": "~2.1.4"
      }
     },
     "41cc4bea46e64c328eedc09055b75d73": {
      "model_module": "jupyter-js-widgets",
      "model_module_version": "~2.1.4",
      "model_name": "LayoutModel",
      "state": {
       "_model_module_version": "~2.1.4",
       "_view_module_version": "~2.1.4"
      }
     },
     "42007902f34b446cabf983cc77d35dda": {
      "model_module": "jupyter-js-widgets",
      "model_module_version": "~2.1.4",
      "model_name": "LayoutModel",
      "state": {
       "_model_module_version": "~2.1.4",
       "_view_module_version": "~2.1.4"
      }
     },
     "422c119f9a5d49d79dcf57b91195ccfd": {
      "model_module": "jupyter-js-widgets",
      "model_module_version": "~2.1.4",
      "model_name": "SliderStyleModel",
      "state": {
       "_model_module_version": "~2.1.4",
       "_view_module_version": "~2.1.4"
      }
     },
     "4536d12a00414adc92312a8a74296830": {
      "model_module": "jupyter-js-widgets",
      "model_module_version": "~2.1.4",
      "model_name": "SliderStyleModel",
      "state": {
       "_model_module_version": "~2.1.4",
       "_view_module_version": "~2.1.4"
      }
     },
     "4612c37fccb94028a8b1c1280a92f0eb": {
      "model_module": "jupyter-js-widgets",
      "model_module_version": "~2.1.4",
      "model_name": "LayoutModel",
      "state": {
       "_model_module_version": "~2.1.4",
       "_view_module_version": "~2.1.4"
      }
     },
     "4a89d2ab8cb1431499e48f99a5547728": {
      "model_module": "jupyter-js-widgets",
      "model_module_version": "~2.1.4",
      "model_name": "LayoutModel",
      "state": {
       "_model_module_version": "~2.1.4",
       "_view_module_version": "~2.1.4"
      }
     },
     "4b22858092f14b5c81ec62ce1ff8f1de": {
      "model_module": "jupyter-js-widgets",
      "model_module_version": "~2.1.4",
      "model_name": "LayoutModel",
      "state": {
       "_model_module_version": "~2.1.4",
       "_view_module_version": "~2.1.4"
      }
     },
     "4b9cbb4e60834037a04a0d8332a549ff": {
      "model_module": "jupyter-js-widgets",
      "model_module_version": "~2.1.4",
      "model_name": "SliderStyleModel",
      "state": {
       "_model_module_version": "~2.1.4",
       "_view_module_version": "~2.1.4"
      }
     },
     "4d1f6fa93f824f7a8a8726abb48aee37": {
      "model_module": "jupyter-js-widgets",
      "model_module_version": "~2.1.4",
      "model_name": "LayoutModel",
      "state": {
       "_model_module_version": "~2.1.4",
       "_view_module_version": "~2.1.4"
      }
     },
     "4d4f33c1d3434dde90a23590f9fcabb2": {
      "model_module": "jupyter-js-widgets",
      "model_module_version": "~2.1.4",
      "model_name": "IntSliderModel",
      "state": {
       "_model_module_version": "~2.1.4",
       "_view_module_version": "~2.1.4",
       "description": "n_friends",
       "layout": "IPY_MODEL_e209291f7bd348d885dfd02023f17eea",
       "max": 20,
       "min": 1,
       "style": "IPY_MODEL_50942df39df6405ba9c74d5d5a27180a",
       "value": 4
      }
     },
     "4dc2c7074c6d44a188aaeb09e8e856d3": {
      "model_module": "jupyter-js-widgets",
      "model_module_version": "~2.1.4",
      "model_name": "VBoxModel",
      "state": {
       "_dom_classes": [
        "widget-interact"
       ],
       "_model_module_version": "~2.1.4",
       "_view_module_version": "~2.1.4",
       "children": [
        "IPY_MODEL_a1d18d67fb07443ba7b5ebf2d4ee9012",
        "IPY_MODEL_9d134910698e4201a0ac7d0193bab5b2",
        "IPY_MODEL_9e6a221c3ecc43348ed1c251b1f3145f",
        "IPY_MODEL_d1e9ac30c7154e2b89bd051b0d56a020",
        "IPY_MODEL_56374cc977a5441e801e963a23ae36b7"
       ],
       "layout": "IPY_MODEL_6e98f17c5b544811b1ee6f2d7f651d07"
      }
     },
     "4f7701a7b23d47a19422912a27dae612": {
      "model_module": "jupyter-js-widgets",
      "model_module_version": "~2.1.4",
      "model_name": "FloatSliderModel",
      "state": {
       "_model_module_version": "~2.1.4",
       "_view_module_version": "~2.1.4",
       "description": "p_rain",
       "layout": "IPY_MODEL_fe44a58e3384485f8b2d5acd62e4b1c6",
       "max": 0.99,
       "min": 0.01,
       "step": 0.1,
       "value": 0.2
      }
     },
     "4fd3c5184caf453ebc6efef34c6c36bd": {
      "model_module": "jupyter-js-widgets",
      "model_module_version": "~2.1.4",
      "model_name": "FloatSliderModel",
      "state": {
       "_model_module_version": "~2.1.4",
       "_view_module_version": "~2.1.4",
       "description": "p_rain",
       "layout": "IPY_MODEL_92cb9ca6160346288afec176f9a793ef",
       "max": 0.99,
       "min": 0.01,
       "step": 0.1,
       "value": 0.91
      }
     },
     "4ffeb3fe90234383b21b724ca5fbb23e": {
      "model_module": "jupyter-js-widgets",
      "model_module_version": "~2.1.4",
      "model_name": "LayoutModel",
      "state": {
       "_model_module_version": "~2.1.4",
       "_view_module_version": "~2.1.4"
      }
     },
     "5061db37501f45df984cf4ffa74240a0": {
      "model_module": "jupyter-js-widgets",
      "model_module_version": "~2.1.4",
      "model_name": "LayoutModel",
      "state": {
       "_model_module_version": "~2.1.4",
       "_view_module_version": "~2.1.4"
      }
     },
     "50942df39df6405ba9c74d5d5a27180a": {
      "model_module": "jupyter-js-widgets",
      "model_module_version": "~2.1.4",
      "model_name": "SliderStyleModel",
      "state": {
       "_model_module_version": "~2.1.4",
       "_view_module_version": "~2.1.4"
      }
     },
     "519b5e8da41d4a8ab1674919fdaf3a30": {
      "model_module": "jupyter-js-widgets",
      "model_module_version": "~2.1.4",
      "model_name": "IntSliderModel",
      "state": {
       "_model_module_version": "~2.1.4",
       "_view_module_version": "~2.1.4",
       "description": "n_friends",
       "layout": "IPY_MODEL_68ff2d16a4984868bcd4b3a1a2b02719",
       "max": 20,
       "min": 1,
       "style": "IPY_MODEL_5af9c7d5a2a14e3b99016c380ed58750",
       "value": 3
      }
     },
     "51a87cad33a3496b84dd1d06bad6f643": {
      "model_module": "jupyter-js-widgets",
      "model_module_version": "~2.1.4",
      "model_name": "VBoxModel",
      "state": {
       "_dom_classes": [
        "widget-interact"
       ],
       "_model_module_version": "~2.1.4",
       "_view_module_version": "~2.1.4",
       "children": [
        "IPY_MODEL_2080c48e74fe464285b2d9469f41a0b1",
        "IPY_MODEL_c9b37514e8374d299f408d5051f4934b",
        "IPY_MODEL_64d950f60e284013a9e6c19d36297c2b",
        "IPY_MODEL_cb9ca410f6734449a21c505a4e56f8da",
        "IPY_MODEL_b80cdf3b57ed43f0b1fa293983d0760f"
       ],
       "layout": "IPY_MODEL_5703265d094c49f6b5b91f5ed06c10ff"
      }
     },
     "527f469535a449f3954b937a660686cf": {
      "model_module": "jupyter-js-widgets",
      "model_module_version": "~2.1.4",
      "model_name": "LayoutModel",
      "state": {
       "_model_module_version": "~2.1.4",
       "_view_module_version": "~2.1.4"
      }
     },
     "540704a27de548acb6a61af23ef5b309": {
      "model_module": "jupyter-js-widgets",
      "model_module_version": "~2.1.4",
      "model_name": "IntSliderModel",
      "state": {
       "_model_module_version": "~2.1.4",
       "_view_module_version": "~2.1.4",
       "description": "n_say_rain",
       "layout": "IPY_MODEL_4ffeb3fe90234383b21b724ca5fbb23e",
       "max": 3,
       "style": "IPY_MODEL_eceac31e429b4f0c95159192dfb7acde",
       "value": 1
      }
     },
     "552779f82c484fffac64bcfece20580d": {
      "model_module": "jupyter-js-widgets",
      "model_module_version": "~2.1.4",
      "model_name": "LayoutModel",
      "state": {
       "_model_module_version": "~2.1.4",
       "_view_module_version": "~2.1.4"
      }
     },
     "56374cc977a5441e801e963a23ae36b7": {
      "model_module": "jupyter-js-widgets",
      "model_module_version": "~2.1.4",
      "model_name": "OutputModel",
      "state": {
       "_dom_classes": [],
       "_model_module": "jupyter-js-widgets",
       "_model_module_version": "~2.1.4",
       "_view_module": "jupyter-js-widgets",
       "_view_module_version": "~2.1.4",
       "layout": "IPY_MODEL_bbb32d0b06c84f719d4462acd4f07aa6",
       "msg_throttle": 1
      }
     },
     "56b23f5639e042c18ac251056bc90c24": {
      "model_module": "jupyter-js-widgets",
      "model_module_version": "~2.1.4",
      "model_name": "SliderStyleModel",
      "state": {
       "_model_module_version": "~2.1.4",
       "_view_module_version": "~2.1.4"
      }
     },
     "5703265d094c49f6b5b91f5ed06c10ff": {
      "model_module": "jupyter-js-widgets",
      "model_module_version": "~2.1.4",
      "model_name": "LayoutModel",
      "state": {
       "_model_module_version": "~2.1.4",
       "_view_module_version": "~2.1.4"
      }
     },
     "57522f3079854d4981ef571972463fdf": {
      "model_module": "jupyter-js-widgets",
      "model_module_version": "~2.1.4",
      "model_name": "IntSliderModel",
      "state": {
       "_model_module_version": "~2.1.4",
       "_view_module_version": "~2.1.4",
       "description": "n_friends",
       "layout": "IPY_MODEL_a47571d7c98244f287a65f38a5d4b63d",
       "max": 20,
       "min": 1,
       "style": "IPY_MODEL_f938280316c84157b1809458e23faa14",
       "value": 13
      }
     },
     "57569631a7a44393b6f56e2436282474": {
      "model_module": "jupyter-js-widgets",
      "model_module_version": "~2.1.4",
      "model_name": "LayoutModel",
      "state": {
       "_model_module_version": "~2.1.4",
       "_view_module_version": "~2.1.4"
      }
     },
     "575c92dd763246ccae7b03ad1aa88b06": {
      "model_module": "jupyter-js-widgets",
      "model_module_version": "~2.1.4",
      "model_name": "LayoutModel",
      "state": {
       "_model_module_version": "~2.1.4",
       "_view_module_version": "~2.1.4"
      }
     },
     "587def21c29845449ca03c1cc667c912": {
      "model_module": "jupyter-js-widgets",
      "model_module_version": "~2.1.4",
      "model_name": "FloatSliderModel",
      "state": {
       "_model_module_version": "~2.1.4",
       "_view_module_version": "~2.1.4",
       "description": "p_lying",
       "layout": "IPY_MODEL_382e105b9e064994958304252c18cb5c",
       "max": 0.99,
       "min": 0.01,
       "step": 0.1,
       "value": 0.3333333333333333
      }
     },
     "58892424fc514164972cadecb6c47b94": {
      "model_module": "jupyter-js-widgets",
      "model_module_version": "~2.1.4",
      "model_name": "FloatSliderModel",
      "state": {
       "_model_module_version": "~2.1.4",
       "_view_module_version": "~2.1.4",
       "description": "p_rain",
       "layout": "IPY_MODEL_6fbc3f88ff2d4820bb34a9e6279a293b",
       "max": 1,
       "step": 0.1,
       "value": 0.2
      }
     },
     "591ef718452545a885946d4762b0f1ed": {
      "model_module": "jupyter-js-widgets",
      "model_module_version": "~2.1.4",
      "model_name": "LayoutModel",
      "state": {
       "_model_module_version": "~2.1.4",
       "_view_module_version": "~2.1.4"
      }
     },
     "59806c2ac13d4ea89a5380d1026ea6f2": {
      "model_module": "jupyter-js-widgets",
      "model_module_version": "~2.1.4",
      "model_name": "LayoutModel",
      "state": {
       "_model_module_version": "~2.1.4",
       "_view_module_version": "~2.1.4"
      }
     },
     "5a99ce81bbb243a2881ce59110356755": {
      "model_module": "jupyter-js-widgets",
      "model_module_version": "~2.1.4",
      "model_name": "VBoxModel",
      "state": {
       "_dom_classes": [
        "widget-interact"
       ],
       "_model_module_version": "~2.1.4",
       "_view_module_version": "~2.1.4",
       "children": [
        "IPY_MODEL_265d3eb0cbc74f1981467694ce707eeb",
        "IPY_MODEL_edab66e590fe4f6da3757efaaf76f1db",
        "IPY_MODEL_03fe19e0d46f4ea1846c172976deec14",
        "IPY_MODEL_6db860311eb54b1ab06825dba3ca3519",
        "IPY_MODEL_b2b98728c45446548a2ccffd019ab860"
       ],
       "layout": "IPY_MODEL_de3c6ceb875f40a0b62d2bde43dcf867"
      }
     },
     "5af9c7d5a2a14e3b99016c380ed58750": {
      "model_module": "jupyter-js-widgets",
      "model_module_version": "~2.1.4",
      "model_name": "SliderStyleModel",
      "state": {
       "_model_module_version": "~2.1.4",
       "_view_module_version": "~2.1.4"
      }
     },
     "5b438854110a47d1a0fcbbd9e77df198": {
      "model_module": "jupyter-js-widgets",
      "model_module_version": "~2.1.4",
      "model_name": "FloatSliderModel",
      "state": {
       "_model_module_version": "~2.1.4",
       "_view_module_version": "~2.1.4",
       "description": "p_lying",
       "layout": "IPY_MODEL_607bb8d9b6f149f39b8232ade276a4f1",
       "max": 1,
       "step": 0.1,
       "value": 0.3333333333333333
      }
     },
     "5be4465da27f41adadb59398ece44611": {
      "model_module": "jupyter-js-widgets",
      "model_module_version": "~2.1.4",
      "model_name": "SliderStyleModel",
      "state": {
       "_model_module_version": "~2.1.4",
       "_view_module_version": "~2.1.4"
      }
     },
     "5c3829d6d12a4de9a6aee23355f10391": {
      "model_module": "jupyter-js-widgets",
      "model_module_version": "~2.1.4",
      "model_name": "SliderStyleModel",
      "state": {
       "_model_module_version": "~2.1.4",
       "_view_module_version": "~2.1.4"
      }
     },
     "5f6733467eaf46d48b380efa4dde046a": {
      "model_module": "jupyter-js-widgets",
      "model_module_version": "~2.1.4",
      "model_name": "SliderStyleModel",
      "state": {
       "_model_module_version": "~2.1.4",
       "_view_module_version": "~2.1.4"
      }
     },
     "607bb8d9b6f149f39b8232ade276a4f1": {
      "model_module": "jupyter-js-widgets",
      "model_module_version": "~2.1.4",
      "model_name": "LayoutModel",
      "state": {
       "_model_module_version": "~2.1.4",
       "_view_module_version": "~2.1.4"
      }
     },
     "610110cfc2ea4d9eb70d69e1b4ac2d99": {
      "model_module": "jupyter-js-widgets",
      "model_module_version": "~2.1.4",
      "model_name": "LayoutModel",
      "state": {
       "_model_module_version": "~2.1.4",
       "_view_module_version": "~2.1.4"
      }
     },
     "64d950f60e284013a9e6c19d36297c2b": {
      "model_module": "jupyter-js-widgets",
      "model_module_version": "~2.1.4",
      "model_name": "FloatSliderModel",
      "state": {
       "_model_module_version": "~2.1.4",
       "_view_module_version": "~2.1.4",
       "description": "p_rain",
       "layout": "IPY_MODEL_8dbc848073d042e3b80d9c1be50f1542",
       "max": 0.99,
       "min": 0.01,
       "step": 0.1,
       "value": 0.41
      }
     },
     "662389c3258945d2bd21648effaf116d": {
      "model_module": "jupyter-js-widgets",
      "model_module_version": "~2.1.4",
      "model_name": "LayoutModel",
      "state": {
       "_model_module_version": "~2.1.4",
       "_view_module_version": "~2.1.4"
      }
     },
     "68d0d3c7fc2541d5a61fa61651e0eb60": {
      "model_module": "jupyter-js-widgets",
      "model_module_version": "~2.1.4",
      "model_name": "LayoutModel",
      "state": {
       "_model_module_version": "~2.1.4",
       "_view_module_version": "~2.1.4"
      }
     },
     "68ff2d16a4984868bcd4b3a1a2b02719": {
      "model_module": "jupyter-js-widgets",
      "model_module_version": "~2.1.4",
      "model_name": "LayoutModel",
      "state": {
       "_model_module_version": "~2.1.4",
       "_view_module_version": "~2.1.4"
      }
     },
     "69bb899f4115416caa4596cf4b670b54": {
      "model_module": "jupyter-js-widgets",
      "model_module_version": "~2.1.4",
      "model_name": "LayoutModel",
      "state": {
       "_model_module_version": "~2.1.4",
       "_view_module_version": "~2.1.4"
      }
     },
     "6bf88370564844aeba01ebb01e1f3ed6": {
      "model_module": "jupyter-js-widgets",
      "model_module_version": "~2.1.4",
      "model_name": "LayoutModel",
      "state": {
       "_model_module_version": "~2.1.4",
       "_view_module_version": "~2.1.4"
      }
     },
     "6c929c6f73d34aecbc5bfcf8def35515": {
      "model_module": "jupyter-js-widgets",
      "model_module_version": "~2.1.4",
      "model_name": "LayoutModel",
      "state": {
       "_model_module_version": "~2.1.4",
       "_view_module_version": "~2.1.4"
      }
     },
     "6d58844a992d404297023b4a2d556ef4": {
      "model_module": "jupyter-js-widgets",
      "model_module_version": "~2.1.4",
      "model_name": "OutputModel",
      "state": {
       "_dom_classes": [],
       "_model_module": "jupyter-js-widgets",
       "_model_module_version": "~2.1.4",
       "_view_module": "jupyter-js-widgets",
       "_view_module_version": "~2.1.4",
       "layout": "IPY_MODEL_d2d1a654f30c481e9d149ac43f27fb7f",
       "msg_throttle": 1
      }
     },
     "6db860311eb54b1ab06825dba3ca3519": {
      "model_module": "jupyter-js-widgets",
      "model_module_version": "~2.1.4",
      "model_name": "FloatSliderModel",
      "state": {
       "_model_module_version": "~2.1.4",
       "_view_module_version": "~2.1.4",
       "description": "p_lying",
       "layout": "IPY_MODEL_41cc4bea46e64c328eedc09055b75d73",
       "max": 0.99,
       "min": 0.01,
       "step": 0.1,
       "value": 0.3333333333333333
      }
     },
     "6e98f17c5b544811b1ee6f2d7f651d07": {
      "model_module": "jupyter-js-widgets",
      "model_module_version": "~2.1.4",
      "model_name": "LayoutModel",
      "state": {
       "_model_module_version": "~2.1.4",
       "_view_module_version": "~2.1.4"
      }
     },
     "6fbc3f88ff2d4820bb34a9e6279a293b": {
      "model_module": "jupyter-js-widgets",
      "model_module_version": "~2.1.4",
      "model_name": "LayoutModel",
      "state": {
       "_model_module_version": "~2.1.4",
       "_view_module_version": "~2.1.4"
      }
     },
     "6fe24757b5194fb583c7e1daa6d3b95f": {
      "model_module": "jupyter-js-widgets",
      "model_module_version": "~2.1.4",
      "model_name": "SliderStyleModel",
      "state": {
       "_model_module_version": "~2.1.4",
       "_view_module_version": "~2.1.4"
      }
     },
     "70e839bd50204c0ba3934096565beee7": {
      "model_module": "jupyter-js-widgets",
      "model_module_version": "~2.1.4",
      "model_name": "VBoxModel",
      "state": {
       "_dom_classes": [
        "widget-interact"
       ],
       "_model_module_version": "~2.1.4",
       "_view_module_version": "~2.1.4",
       "children": [
        "IPY_MODEL_99a15b2c9e9e45678d1e9643d5f2c289",
        "IPY_MODEL_08b528e62cb54d42a6363586e33c9067",
        "IPY_MODEL_9a4c2ef4567842cbbb2b02547ca9bc4b",
        "IPY_MODEL_0af02e0d272e48e1890b89cbbbf6e673",
        "IPY_MODEL_f8f3843a0b654dd98bd2424ea1750b70"
       ],
       "layout": "IPY_MODEL_04ecbd459752450dac72a60ddc480ff4"
      }
     },
     "71b31b505b994cbabd8d3b62abd62a0a": {
      "model_module": "jupyter-js-widgets",
      "model_module_version": "~2.1.4",
      "model_name": "OutputModel",
      "state": {
       "_dom_classes": [],
       "_model_module": "jupyter-js-widgets",
       "_model_module_version": "~2.1.4",
       "_view_module": "jupyter-js-widgets",
       "_view_module_version": "~2.1.4",
       "layout": "IPY_MODEL_e5d4206dff3c4debbdf5635d88990d27",
       "msg_throttle": 1
      }
     },
     "71cae00420e7401daa86058ff7b5949d": {
      "model_module": "jupyter-js-widgets",
      "model_module_version": "~2.1.4",
      "model_name": "FloatSliderModel",
      "state": {
       "_model_module_version": "~2.1.4",
       "_view_module_version": "~2.1.4",
       "description": "p_rain",
       "layout": "IPY_MODEL_35fab175dd1940e9842a38fb21ed369f",
       "max": 0.99,
       "min": 0.01,
       "step": 0.1,
       "value": 0.91
      }
     },
     "71f310e62d464aa4bc9de65f8810381b": {
      "model_module": "jupyter-js-widgets",
      "model_module_version": "~2.1.4",
      "model_name": "LayoutModel",
      "state": {
       "_model_module_version": "~2.1.4",
       "_view_module_version": "~2.1.4"
      }
     },
     "73c282966ca64fae8f45a1a922684d57": {
      "model_module": "jupyter-js-widgets",
      "model_module_version": "~2.1.4",
      "model_name": "OutputModel",
      "state": {
       "_dom_classes": [],
       "_model_module": "jupyter-js-widgets",
       "_model_module_version": "~2.1.4",
       "_view_module": "jupyter-js-widgets",
       "_view_module_version": "~2.1.4",
       "layout": "IPY_MODEL_8b6e93e68d324606bc77ffdff870eb11",
       "msg_throttle": 1
      }
     },
     "76c6ac8a7a734b0c87effa98743a2037": {
      "model_module": "jupyter-js-widgets",
      "model_module_version": "~2.1.4",
      "model_name": "IntSliderModel",
      "state": {
       "_model_module_version": "~2.1.4",
       "_view_module_version": "~2.1.4",
       "description": "n_friends",
       "layout": "IPY_MODEL_b7bf1631ec664a0e9e6d920dbc4c682f",
       "max": 20,
       "min": 1,
       "style": "IPY_MODEL_5c3829d6d12a4de9a6aee23355f10391",
       "value": 3
      }
     },
     "76f567a913b94588a00383d3c823759d": {
      "model_module": "jupyter-js-widgets",
      "model_module_version": "~2.1.4",
      "model_name": "IntSliderModel",
      "state": {
       "_model_module_version": "~2.1.4",
       "_view_module_version": "~2.1.4",
       "description": "n_say_rain",
       "layout": "IPY_MODEL_90173df783584a37a85fe92075f219eb",
       "max": 6,
       "style": "IPY_MODEL_8c9d8c23f9a74cc882bd440a243ae27c",
       "value": 6
      }
     },
     "773751cb30674b5baa1216348e07d4f2": {
      "model_module": "jupyter-js-widgets",
      "model_module_version": "~2.1.4",
      "model_name": "IntSliderModel",
      "state": {
       "_model_module_version": "~2.1.4",
       "_view_module_version": "~2.1.4",
       "description": "n_friends",
       "layout": "IPY_MODEL_22ae303061434529ad9572489aa3dadb",
       "max": 20,
       "min": 1,
       "style": "IPY_MODEL_a9c14efd79ce467face20bbae43f8b90",
       "value": 3
      }
     },
     "7756d9e6c63f47edbafa6280ee42f034": {
      "model_module": "jupyter-js-widgets",
      "model_module_version": "~2.1.4",
      "model_name": "SliderStyleModel",
      "state": {
       "_model_module_version": "~2.1.4",
       "_view_module_version": "~2.1.4"
      }
     },
     "7756eb2f0d4c48438af9c20600870760": {
      "model_module": "jupyter-js-widgets",
      "model_module_version": "~2.1.4",
      "model_name": "LayoutModel",
      "state": {
       "_model_module_version": "~2.1.4",
       "_view_module_version": "~2.1.4"
      }
     },
     "79aadfe38f1e4316903a23f77c2d78c8": {
      "model_module": "jupyter-js-widgets",
      "model_module_version": "~2.1.4",
      "model_name": "LayoutModel",
      "state": {
       "_model_module_version": "~2.1.4",
       "_view_module_version": "~2.1.4"
      }
     },
     "7ad990c9caa44502815a799ee5f27b00": {
      "model_module": "jupyter-js-widgets",
      "model_module_version": "~2.1.4",
      "model_name": "FloatSliderModel",
      "state": {
       "_model_module_version": "~2.1.4",
       "_view_module_version": "~2.1.4",
       "description": "p_lying",
       "layout": "IPY_MODEL_8146727b02854fbeae9965c4aae1ee87",
       "max": 0.99,
       "min": 0.01,
       "step": 0.1,
       "value": 0.3333333333333333
      }
     },
     "7af5acb772d542968365d816ca1f97a1": {
      "model_module": "jupyter-js-widgets",
      "model_module_version": "~2.1.4",
      "model_name": "LayoutModel",
      "state": {
       "_model_module_version": "~2.1.4",
       "_view_module_version": "~2.1.4"
      }
     },
     "7b2d9439526547819fb1ca7a911dc362": {
      "model_module": "jupyter-js-widgets",
      "model_module_version": "~2.1.4",
      "model_name": "LayoutModel",
      "state": {
       "_model_module_version": "~2.1.4",
       "_view_module_version": "~2.1.4"
      }
     },
     "7b542ba3820249da930fcd3cdae7b418": {
      "model_module": "jupyter-js-widgets",
      "model_module_version": "~2.1.4",
      "model_name": "VBoxModel",
      "state": {
       "_dom_classes": [
        "widget-interact"
       ],
       "_model_module_version": "~2.1.4",
       "_view_module_version": "~2.1.4",
       "children": [
        "IPY_MODEL_b1628f35830648dc982a1ece7b7063bf",
        "IPY_MODEL_da7f2f9ce57d4d7693428f5d38a0c14e",
        "IPY_MODEL_4f7701a7b23d47a19422912a27dae612",
        "IPY_MODEL_8219e16d23614cf58b6e4a191bd39510",
        "IPY_MODEL_bb61a99ec165404c870d9d77c5c40fa0"
       ],
       "layout": "IPY_MODEL_b8a4691a7f25484db0399deb073ffd70"
      }
     },
     "7c63b5bf89cc42f98f7034fb974a70d5": {
      "model_module": "jupyter-js-widgets",
      "model_module_version": "~2.1.4",
      "model_name": "LayoutModel",
      "state": {
       "_model_module_version": "~2.1.4",
       "_view_module_version": "~2.1.4"
      }
     },
     "7d7c2be5d49a44ac8cdf5092a3ddddca": {
      "model_module": "jupyter-js-widgets",
      "model_module_version": "~2.1.4",
      "model_name": "VBoxModel",
      "state": {
       "_dom_classes": [
        "widget-interact"
       ],
       "_model_module_version": "~2.1.4",
       "_view_module_version": "~2.1.4",
       "children": [
        "IPY_MODEL_13841132acc64523a217dcf1c35fa8bc",
        "IPY_MODEL_519b5e8da41d4a8ab1674919fdaf3a30",
        "IPY_MODEL_c5024b21029b4e68a86c58e8b69b4e49",
        "IPY_MODEL_af8f4880a7f1471a9aa76009b06dc6c1",
        "IPY_MODEL_c85165e3bb33429ba78a101e8abe6006"
       ],
       "layout": "IPY_MODEL_9d3f5d379978495ea69b921ee555c072"
      }
     },
     "7fc470b8223841d78588be261db27d62": {
      "model_module": "jupyter-js-widgets",
      "model_module_version": "~2.1.4",
      "model_name": "LayoutModel",
      "state": {
       "_model_module_version": "~2.1.4",
       "_view_module_version": "~2.1.4"
      }
     },
     "8049dc50c43e48948f852d7fad8eb26a": {
      "model_module": "jupyter-js-widgets",
      "model_module_version": "~2.1.4",
      "model_name": "IntSliderModel",
      "state": {
       "_model_module_version": "~2.1.4",
       "_view_module_version": "~2.1.4",
       "description": "n_say_rain",
       "layout": "IPY_MODEL_17e69db75d0c44188f4378f43aed8628",
       "max": 20,
       "style": "IPY_MODEL_bf26d4a025284025ae35a08580896283",
       "value": 3
      }
     },
     "8146727b02854fbeae9965c4aae1ee87": {
      "model_module": "jupyter-js-widgets",
      "model_module_version": "~2.1.4",
      "model_name": "LayoutModel",
      "state": {
       "_model_module_version": "~2.1.4",
       "_view_module_version": "~2.1.4"
      }
     },
     "8219e16d23614cf58b6e4a191bd39510": {
      "model_module": "jupyter-js-widgets",
      "model_module_version": "~2.1.4",
      "model_name": "FloatSliderModel",
      "state": {
       "_model_module_version": "~2.1.4",
       "_view_module_version": "~2.1.4",
       "description": "p_lying",
       "layout": "IPY_MODEL_0bc10f3267d344bcb1b2102cd7cd3015",
       "max": 0.99,
       "min": 0.01,
       "step": 0.1,
       "value": 0.3333333333333333
      }
     },
     "82edd03deec541c382910806a9278c0a": {
      "model_module": "jupyter-js-widgets",
      "model_module_version": "~2.1.4",
      "model_name": "VBoxModel",
      "state": {
       "_dom_classes": [
        "widget-interact"
       ],
       "_model_module_version": "~2.1.4",
       "_view_module_version": "~2.1.4",
       "children": [
        "IPY_MODEL_ab264cd47da145df8dbf3041aed4bdea",
        "IPY_MODEL_ae81584064d34985b1146b5b18c79320",
        "IPY_MODEL_71cae00420e7401daa86058ff7b5949d",
        "IPY_MODEL_861c5db8a37c41609bd6b3e40f0c1a5c",
        "IPY_MODEL_71b31b505b994cbabd8d3b62abd62a0a"
       ],
       "layout": "IPY_MODEL_8784b4a7330e4f30bbb86fc3f2739c92"
      }
     },
     "8392a8acc10849ee864c78ea4ae77e50": {
      "model_module": "jupyter-js-widgets",
      "model_module_version": "~2.1.4",
      "model_name": "FloatSliderModel",
      "state": {
       "_model_module_version": "~2.1.4",
       "_view_module_version": "~2.1.4",
       "description": "p_rain",
       "layout": "IPY_MODEL_1aa41ca097e6484689f5c5c7dda4d37d",
       "max": 0.99,
       "min": 0.01,
       "step": 0.1,
       "value": 0.2
      }
     },
     "8506e82e5eee4afb974f462a50545ef2": {
      "model_module": "jupyter-js-widgets",
      "model_module_version": "~2.1.4",
      "model_name": "FloatSliderModel",
      "state": {
       "_model_module_version": "~2.1.4",
       "_view_module_version": "~2.1.4",
       "description": "p_rain",
       "layout": "IPY_MODEL_139e562ba8984131830a6b196ad9690d",
       "max": 0.99,
       "min": 0.01,
       "step": 0.1,
       "value": 0.2
      }
     },
     "861c5db8a37c41609bd6b3e40f0c1a5c": {
      "model_module": "jupyter-js-widgets",
      "model_module_version": "~2.1.4",
      "model_name": "FloatSliderModel",
      "state": {
       "_model_module_version": "~2.1.4",
       "_view_module_version": "~2.1.4",
       "description": "p_lying",
       "layout": "IPY_MODEL_e22643c6e8614f2e91f8acfe23059ce9",
       "max": 0.99,
       "min": 0.01,
       "step": 0.1,
       "value": 0.91
      }
     },
     "867d24728d504e36bd78097f92dd59fc": {
      "model_module": "jupyter-js-widgets",
      "model_module_version": "~2.1.4",
      "model_name": "IntSliderModel",
      "state": {
       "_model_module_version": "~2.1.4",
       "_view_module_version": "~2.1.4",
       "description": "n_say_rain",
       "layout": "IPY_MODEL_0466d1e7fb654d5a85335c3aa6e7c8fb",
       "max": 20,
       "style": "IPY_MODEL_dacbda89687e41fbb5aae6babf0d0f8b",
       "value": 3
      }
     },
     "871fef7ed6db40f9a7b7191343f42a5b": {
      "model_module": "jupyter-js-widgets",
      "model_module_version": "~2.1.4",
      "model_name": "SliderStyleModel",
      "state": {
       "_model_module_version": "~2.1.4",
       "_view_module_version": "~2.1.4"
      }
     },
     "8784b4a7330e4f30bbb86fc3f2739c92": {
      "model_module": "jupyter-js-widgets",
      "model_module_version": "~2.1.4",
      "model_name": "LayoutModel",
      "state": {
       "_model_module_version": "~2.1.4",
       "_view_module_version": "~2.1.4"
      }
     },
     "88e7a017b50146e1adc64d0707ca4bf7": {
      "model_module": "jupyter-js-widgets",
      "model_module_version": "~2.1.4",
      "model_name": "IntSliderModel",
      "state": {
       "_model_module_version": "~2.1.4",
       "_view_module_version": "~2.1.4",
       "description": "n_friends",
       "layout": "IPY_MODEL_f2226a5475704820969e76848c51eeda",
       "max": 9,
       "min": -3,
       "style": "IPY_MODEL_422c119f9a5d49d79dcf57b91195ccfd",
       "value": 3
      }
     },
     "8a4dca16d9644928a754ba9c14e1b9d8": {
      "model_module": "jupyter-js-widgets",
      "model_module_version": "~2.1.4",
      "model_name": "FloatSliderModel",
      "state": {
       "_model_module_version": "~2.1.4",
       "_view_module_version": "~2.1.4",
       "description": "p_lying",
       "layout": "IPY_MODEL_35586ef57add409bb2de4d706571ff11",
       "max": 0.99,
       "min": 0.01,
       "step": 0.1,
       "value": 0.3333333333333333
      }
     },
     "8b1e5fe8a0654103bd915592e84a5cd1": {
      "model_module": "jupyter-js-widgets",
      "model_module_version": "~2.1.4",
      "model_name": "LayoutModel",
      "state": {
       "_model_module_version": "~2.1.4",
       "_view_module_version": "~2.1.4"
      }
     },
     "8b6e93e68d324606bc77ffdff870eb11": {
      "model_module": "jupyter-js-widgets",
      "model_module_version": "~2.1.4",
      "model_name": "LayoutModel",
      "state": {
       "_model_module_version": "~2.1.4",
       "_view_module_version": "~2.1.4"
      }
     },
     "8b8ceded5fc1497089451b34d010c0f1": {
      "model_module": "jupyter-js-widgets",
      "model_module_version": "~2.1.4",
      "model_name": "SliderStyleModel",
      "state": {
       "_model_module_version": "~2.1.4",
       "_view_module_version": "~2.1.4"
      }
     },
     "8c555694037044f1a18b91a55cb409d1": {
      "model_module": "jupyter-js-widgets",
      "model_module_version": "~2.1.4",
      "model_name": "LayoutModel",
      "state": {
       "_model_module_version": "~2.1.4",
       "_view_module_version": "~2.1.4"
      }
     },
     "8c989cdf425a4efb808a93592429416f": {
      "model_module": "jupyter-js-widgets",
      "model_module_version": "~2.1.4",
      "model_name": "SliderStyleModel",
      "state": {
       "_model_module_version": "~2.1.4",
       "_view_module_version": "~2.1.4"
      }
     },
     "8c9d8c23f9a74cc882bd440a243ae27c": {
      "model_module": "jupyter-js-widgets",
      "model_module_version": "~2.1.4",
      "model_name": "SliderStyleModel",
      "state": {
       "_model_module_version": "~2.1.4",
       "_view_module_version": "~2.1.4"
      }
     },
     "8d373f1fc2e445f1ac4eb131c9471760": {
      "model_module": "jupyter-js-widgets",
      "model_module_version": "~2.1.4",
      "model_name": "SliderStyleModel",
      "state": {
       "_model_module_version": "~2.1.4",
       "_view_module_version": "~2.1.4"
      }
     },
     "8dbc848073d042e3b80d9c1be50f1542": {
      "model_module": "jupyter-js-widgets",
      "model_module_version": "~2.1.4",
      "model_name": "LayoutModel",
      "state": {
       "_model_module_version": "~2.1.4",
       "_view_module_version": "~2.1.4"
      }
     },
     "8fe1408c5a074926bb08588d484b8857": {
      "model_module": "jupyter-js-widgets",
      "model_module_version": "~2.1.4",
      "model_name": "VBoxModel",
      "state": {
       "_dom_classes": [
        "widget-interact"
       ],
       "_model_module_version": "~2.1.4",
       "_view_module_version": "~2.1.4",
       "children": [
        "IPY_MODEL_540704a27de548acb6a61af23ef5b309",
        "IPY_MODEL_2bb5c97c8c1641698bb24128f92347d3",
        "IPY_MODEL_8392a8acc10849ee864c78ea4ae77e50",
        "IPY_MODEL_9b72f17c20134e7680935ecc1c42e077",
        "IPY_MODEL_c894811b5cb843cdab71c10d41c3767a"
       ],
       "layout": "IPY_MODEL_1407dc545b644effa835ee81f81b650b"
      }
     },
     "90173df783584a37a85fe92075f219eb": {
      "model_module": "jupyter-js-widgets",
      "model_module_version": "~2.1.4",
      "model_name": "LayoutModel",
      "state": {
       "_model_module_version": "~2.1.4",
       "_view_module_version": "~2.1.4"
      }
     },
     "9075b0f75a8549ed88903981fd585f1d": {
      "model_module": "jupyter-js-widgets",
      "model_module_version": "~2.1.4",
      "model_name": "FloatSliderModel",
      "state": {
       "_model_module_version": "~2.1.4",
       "_view_module_version": "~2.1.4",
       "description": "p_lying",
       "layout": "IPY_MODEL_afb0f2cb7bac4008a3a7b5620090aa99",
       "max": 0.99,
       "min": 0.01,
       "step": 0.1,
       "value": 0.3333333333333333
      }
     },
     "90f94cb64e8a4a08894353437d0307b5": {
      "model_module": "jupyter-js-widgets",
      "model_module_version": "~2.1.4",
      "model_name": "FloatSliderModel",
      "state": {
       "_model_module_version": "~2.1.4",
       "_view_module_version": "~2.1.4",
       "description": "p_rain",
       "layout": "IPY_MODEL_3215ae2def07495482aab8c486734a84",
       "max": 0.99,
       "min": 0.01,
       "step": 0.1,
       "value": 0.2
      }
     },
     "92cb9ca6160346288afec176f9a793ef": {
      "model_module": "jupyter-js-widgets",
      "model_module_version": "~2.1.4",
      "model_name": "LayoutModel",
      "state": {
       "_model_module_version": "~2.1.4",
       "_view_module_version": "~2.1.4"
      }
     },
     "936b9fe99eb54b85b47bc5c586f1dd81": {
      "model_module": "jupyter-js-widgets",
      "model_module_version": "~2.1.4",
      "model_name": "IntSliderModel",
      "state": {
       "_model_module_version": "~2.1.4",
       "_view_module_version": "~2.1.4",
       "description": "n_friends",
       "layout": "IPY_MODEL_273921268bbf41bba1e1f7a83c054066",
       "max": 20,
       "min": 1,
       "style": "IPY_MODEL_4b9cbb4e60834037a04a0d8332a549ff",
       "value": 6
      }
     },
     "9500ba81e8594ec68a241990133e5a31": {
      "model_module": "jupyter-js-widgets",
      "model_module_version": "~2.1.4",
      "model_name": "OutputModel",
      "state": {
       "_dom_classes": [],
       "_model_module": "jupyter-js-widgets",
       "_model_module_version": "~2.1.4",
       "_view_module": "jupyter-js-widgets",
       "_view_module_version": "~2.1.4",
       "layout": "IPY_MODEL_c41de2e8eb5a41e597056a29dfa8d13d",
       "msg_throttle": 1
      }
     },
     "955d98d6e89c403f889a40dbfee15bee": {
      "model_module": "jupyter-js-widgets",
      "model_module_version": "~2.1.4",
      "model_name": "SliderStyleModel",
      "state": {
       "_model_module_version": "~2.1.4",
       "_view_module_version": "~2.1.4"
      }
     },
     "9695587a8d5c4f3096bebc0faaa89563": {
      "model_module": "jupyter-js-widgets",
      "model_module_version": "~2.1.4",
      "model_name": "LayoutModel",
      "state": {
       "_model_module_version": "~2.1.4",
       "_view_module_version": "~2.1.4"
      }
     },
     "9841e44ebcb84263a313e3f551b4ebdd": {
      "model_module": "jupyter-js-widgets",
      "model_module_version": "~2.1.4",
      "model_name": "OutputModel",
      "state": {
       "_dom_classes": [],
       "_model_module": "jupyter-js-widgets",
       "_model_module_version": "~2.1.4",
       "_view_module": "jupyter-js-widgets",
       "_view_module_version": "~2.1.4",
       "layout": "IPY_MODEL_d337142d8810464b903613edcae41cad",
       "msg_throttle": 1
      }
     },
     "986944fbdd47446a876a5671fb417d26": {
      "model_module": "jupyter-js-widgets",
      "model_module_version": "~2.1.4",
      "model_name": "SliderStyleModel",
      "state": {
       "_model_module_version": "~2.1.4",
       "_view_module_version": "~2.1.4"
      }
     },
     "99a15b2c9e9e45678d1e9643d5f2c289": {
      "model_module": "jupyter-js-widgets",
      "model_module_version": "~2.1.4",
      "model_name": "IntSliderModel",
      "state": {
       "_model_module_version": "~2.1.4",
       "_view_module_version": "~2.1.4",
       "description": "n_say_rain",
       "layout": "IPY_MODEL_b44add4a6b634ad685596205b64a69bc",
       "max": 9,
       "min": -3,
       "style": "IPY_MODEL_23e7e9a0e18d460f8376872704aff61d",
       "value": 3
      }
     },
     "99e817b286204863b4185fa8b7f78087": {
      "model_module": "jupyter-js-widgets",
      "model_module_version": "~2.1.4",
      "model_name": "LayoutModel",
      "state": {
       "_model_module_version": "~2.1.4",
       "_view_module_version": "~2.1.4"
      }
     },
     "9a4c2ef4567842cbbb2b02547ca9bc4b": {
      "model_module": "jupyter-js-widgets",
      "model_module_version": "~2.1.4",
      "model_name": "FloatSliderModel",
      "state": {
       "_model_module_version": "~2.1.4",
       "_view_module_version": "~2.1.4",
       "description": "p_rain",
       "layout": "IPY_MODEL_19978afc4d3f442bb308b518fab3ab1f",
       "max": 0.6000000000000001,
       "min": -0.2,
       "step": 0.1,
       "value": 0.2
      }
     },
     "9b72f17c20134e7680935ecc1c42e077": {
      "model_module": "jupyter-js-widgets",
      "model_module_version": "~2.1.4",
      "model_name": "FloatSliderModel",
      "state": {
       "_model_module_version": "~2.1.4",
       "_view_module_version": "~2.1.4",
       "description": "p_lying",
       "layout": "IPY_MODEL_8c555694037044f1a18b91a55cb409d1",
       "max": 0.99,
       "min": 0.01,
       "step": 0.1,
       "value": 0.3333333333333333
      }
     },
     "9c147a44ab6049a1b6d70e1e72b1feab": {
      "model_module": "jupyter-js-widgets",
      "model_module_version": "~2.1.4",
      "model_name": "LayoutModel",
      "state": {
       "_model_module_version": "~2.1.4",
       "_view_module_version": "~2.1.4"
      }
     },
     "9d134910698e4201a0ac7d0193bab5b2": {
      "model_module": "jupyter-js-widgets",
      "model_module_version": "~2.1.4",
      "model_name": "IntSliderModel",
      "state": {
       "_model_module_version": "~2.1.4",
       "_view_module_version": "~2.1.4",
       "description": "n_friends",
       "layout": "IPY_MODEL_c4d4ab7006124a52bd81951bbec85b23",
       "max": 20,
       "min": 1,
       "style": "IPY_MODEL_56b23f5639e042c18ac251056bc90c24",
       "value": 3
      }
     },
     "9d27f12d36a64f238e483c7d835854ed": {
      "model_module": "jupyter-js-widgets",
      "model_module_version": "~2.1.4",
      "model_name": "LayoutModel",
      "state": {
       "_model_module_version": "~2.1.4",
       "_view_module_version": "~2.1.4"
      }
     },
     "9d3f5d379978495ea69b921ee555c072": {
      "model_module": "jupyter-js-widgets",
      "model_module_version": "~2.1.4",
      "model_name": "LayoutModel",
      "state": {
       "_model_module_version": "~2.1.4",
       "_view_module_version": "~2.1.4"
      }
     },
     "9e6a221c3ecc43348ed1c251b1f3145f": {
      "model_module": "jupyter-js-widgets",
      "model_module_version": "~2.1.4",
      "model_name": "FloatSliderModel",
      "state": {
       "_model_module_version": "~2.1.4",
       "_view_module_version": "~2.1.4",
       "description": "p_rain",
       "layout": "IPY_MODEL_b24f01fb41b748a6a474d2c57c1b0e02",
       "max": 0.99,
       "min": 0.01,
       "step": 0.1,
       "value": 0.2
      }
     },
     "9efc8fac72d946ef802087bfaf6e2e59": {
      "model_module": "jupyter-js-widgets",
      "model_module_version": "~2.1.4",
      "model_name": "IntSliderModel",
      "state": {
       "_model_module_version": "~2.1.4",
       "_view_module_version": "~2.1.4",
       "description": "n_say_rain",
       "layout": "IPY_MODEL_337f270f439b42ffa0cf4099acf62429",
       "max": 20,
       "style": "IPY_MODEL_e2d27b414b834ee8b0d75de5db04bf4d",
       "value": 3
      }
     },
     "a10d361e22f14e4bafdc8eeebef3093f": {
      "model_module": "jupyter-js-widgets",
      "model_module_version": "~2.1.4",
      "model_name": "LayoutModel",
      "state": {
       "_model_module_version": "~2.1.4",
       "_view_module_version": "~2.1.4"
      }
     },
     "a1d18d67fb07443ba7b5ebf2d4ee9012": {
      "model_module": "jupyter-js-widgets",
      "model_module_version": "~2.1.4",
      "model_name": "IntSliderModel",
      "state": {
       "_model_module_version": "~2.1.4",
       "_view_module_version": "~2.1.4",
       "description": "n_say_rain",
       "layout": "IPY_MODEL_eb3f1876d2154aa6920f8d21d39cd5fe",
       "max": 20,
       "style": "IPY_MODEL_871fef7ed6db40f9a7b7191343f42a5b",
       "value": 3
      }
     },
     "a47571d7c98244f287a65f38a5d4b63d": {
      "model_module": "jupyter-js-widgets",
      "model_module_version": "~2.1.4",
      "model_name": "LayoutModel",
      "state": {
       "_model_module_version": "~2.1.4",
       "_view_module_version": "~2.1.4"
      }
     },
     "a7bc9b88a1be4925ae151db5ec57d684": {
      "model_module": "jupyter-js-widgets",
      "model_module_version": "~2.1.4",
      "model_name": "LayoutModel",
      "state": {
       "_model_module_version": "~2.1.4",
       "_view_module_version": "~2.1.4"
      }
     },
     "a88dff8d993341a8bc62afcff4f24137": {
      "model_module": "jupyter-js-widgets",
      "model_module_version": "~2.1.4",
      "model_name": "SliderStyleModel",
      "state": {
       "_model_module_version": "~2.1.4",
       "_view_module_version": "~2.1.4"
      }
     },
     "a91498df8167409a9a483f7474c92208": {
      "model_module": "jupyter-js-widgets",
      "model_module_version": "~2.1.4",
      "model_name": "LayoutModel",
      "state": {
       "_model_module_version": "~2.1.4",
       "_view_module_version": "~2.1.4"
      }
     },
     "a9c14efd79ce467face20bbae43f8b90": {
      "model_module": "jupyter-js-widgets",
      "model_module_version": "~2.1.4",
      "model_name": "SliderStyleModel",
      "state": {
       "_model_module_version": "~2.1.4",
       "_view_module_version": "~2.1.4"
      }
     },
     "ab264cd47da145df8dbf3041aed4bdea": {
      "model_module": "jupyter-js-widgets",
      "model_module_version": "~2.1.4",
      "model_name": "IntSliderModel",
      "state": {
       "_model_module_version": "~2.1.4",
       "_view_module_version": "~2.1.4",
       "description": "n_say_rain",
       "layout": "IPY_MODEL_4b22858092f14b5c81ec62ce1ff8f1de",
       "max": 20,
       "style": "IPY_MODEL_3e8147dbb0684930a06e2770ec469ab2",
       "value": 3
      }
     },
     "ae601121ab3f4e6d9f718e5ea443fa67": {
      "model_module": "jupyter-js-widgets",
      "model_module_version": "~2.1.4",
      "model_name": "FloatSliderModel",
      "state": {
       "_model_module_version": "~2.1.4",
       "_view_module_version": "~2.1.4",
       "description": "p_rain",
       "layout": "IPY_MODEL_527f469535a449f3954b937a660686cf",
       "max": 0.999,
       "min": 0.01,
       "step": 0.1,
       "value": 0.91
      }
     },
     "ae81584064d34985b1146b5b18c79320": {
      "model_module": "jupyter-js-widgets",
      "model_module_version": "~2.1.4",
      "model_name": "IntSliderModel",
      "state": {
       "_model_module_version": "~2.1.4",
       "_view_module_version": "~2.1.4",
       "description": "n_friends",
       "layout": "IPY_MODEL_e28914b70af54b46bfd6be0f87776b47",
       "max": 20,
       "min": 1,
       "style": "IPY_MODEL_4536d12a00414adc92312a8a74296830",
       "value": 3
      }
     },
     "aed01fbe789247cbab21f310949734a3": {
      "model_module": "jupyter-js-widgets",
      "model_module_version": "~2.1.4",
      "model_name": "IntSliderModel",
      "state": {
       "_model_module_version": "~2.1.4",
       "_view_module_version": "~2.1.4",
       "layout": "IPY_MODEL_1dc4607dcdb34041bd3f0e6ee989105f",
       "max": 20,
       "min": 1,
       "style": "IPY_MODEL_a88dff8d993341a8bc62afcff4f24137",
       "value": 4
      }
     },
     "af577a48f80c4b5ea4a54a1fe7ead47f": {
      "model_module": "jupyter-js-widgets",
      "model_module_version": "~2.1.4",
      "model_name": "IntSliderModel",
      "state": {
       "_model_module_version": "~2.1.4",
       "_view_module_version": "~2.1.4",
       "description": "n_say_rain",
       "layout": "IPY_MODEL_4612c37fccb94028a8b1c1280a92f0eb",
       "max": 20,
       "style": "IPY_MODEL_bbdadeb772f04d3083db5448554e1ca4",
       "value": 3
      }
     },
     "af8f4880a7f1471a9aa76009b06dc6c1": {
      "model_module": "jupyter-js-widgets",
      "model_module_version": "~2.1.4",
      "model_name": "FloatSliderModel",
      "state": {
       "_model_module_version": "~2.1.4",
       "_view_module_version": "~2.1.4",
       "description": "p_lying",
       "layout": "IPY_MODEL_6c929c6f73d34aecbc5bfcf8def35515",
       "max": 1,
       "step": 0.1,
       "value": 1
      }
     },
     "afb0f2cb7bac4008a3a7b5620090aa99": {
      "model_module": "jupyter-js-widgets",
      "model_module_version": "~2.1.4",
      "model_name": "LayoutModel",
      "state": {
       "_model_module_version": "~2.1.4",
       "_view_module_version": "~2.1.4"
      }
     },
     "b0202810056e40ee8e5b91f78cfbc423": {
      "model_module": "jupyter-js-widgets",
      "model_module_version": "~2.1.4",
      "model_name": "VBoxModel",
      "state": {
       "_dom_classes": [
        "widget-interact"
       ],
       "_model_module_version": "~2.1.4",
       "_view_module_version": "~2.1.4",
       "children": [
        "IPY_MODEL_ea2502b0e92a4a37bca681f24c47ae2d",
        "IPY_MODEL_57522f3079854d4981ef571972463fdf",
        "IPY_MODEL_4fd3c5184caf453ebc6efef34c6c36bd",
        "IPY_MODEL_8a4dca16d9644928a754ba9c14e1b9d8",
        "IPY_MODEL_e9e150c0f59b41fdb8f53c835d23e6df"
       ],
       "layout": "IPY_MODEL_0faf7176559041c0ba8f6121d35608e9"
      }
     },
     "b1628f35830648dc982a1ece7b7063bf": {
      "model_module": "jupyter-js-widgets",
      "model_module_version": "~2.1.4",
      "model_name": "IntSliderModel",
      "state": {
       "_model_module_version": "~2.1.4",
       "_view_module_version": "~2.1.4",
       "description": "n_say_rain",
       "layout": "IPY_MODEL_9c147a44ab6049a1b6d70e1e72b1feab",
       "max": 20,
       "style": "IPY_MODEL_6fe24757b5194fb583c7e1daa6d3b95f",
       "value": 3
      }
     },
     "b24f01fb41b748a6a474d2c57c1b0e02": {
      "model_module": "jupyter-js-widgets",
      "model_module_version": "~2.1.4",
      "model_name": "LayoutModel",
      "state": {
       "_model_module_version": "~2.1.4",
       "_view_module_version": "~2.1.4"
      }
     },
     "b2b98728c45446548a2ccffd019ab860": {
      "model_module": "jupyter-js-widgets",
      "model_module_version": "~2.1.4",
      "model_name": "OutputModel",
      "state": {
       "_dom_classes": [],
       "_model_module": "jupyter-js-widgets",
       "_model_module_version": "~2.1.4",
       "_view_module": "jupyter-js-widgets",
       "_view_module_version": "~2.1.4",
       "layout": "IPY_MODEL_3196ca0478aa4d6fb70cdd6e67b5a6b5",
       "msg_throttle": 1
      }
     },
     "b2c5b081236246b2b71a7bd7bdb19d6c": {
      "model_module": "jupyter-js-widgets",
      "model_module_version": "~2.1.4",
      "model_name": "SliderStyleModel",
      "state": {
       "_model_module_version": "~2.1.4",
       "_view_module_version": "~2.1.4"
      }
     },
     "b44add4a6b634ad685596205b64a69bc": {
      "model_module": "jupyter-js-widgets",
      "model_module_version": "~2.1.4",
      "model_name": "LayoutModel",
      "state": {
       "_model_module_version": "~2.1.4",
       "_view_module_version": "~2.1.4"
      }
     },
     "b68eb3287c724c4fab0befb4f1712384": {
      "model_module": "jupyter-js-widgets",
      "model_module_version": "~2.1.4",
      "model_name": "LayoutModel",
      "state": {
       "_model_module_version": "~2.1.4",
       "_view_module_version": "~2.1.4"
      }
     },
     "b6ee408837bd418b91ce7688a60fd089": {
      "model_module": "jupyter-js-widgets",
      "model_module_version": "~2.1.4",
      "model_name": "OutputModel",
      "state": {
       "_dom_classes": [],
       "_model_module": "jupyter-js-widgets",
       "_model_module_version": "~2.1.4",
       "_view_module": "jupyter-js-widgets",
       "_view_module_version": "~2.1.4",
       "layout": "IPY_MODEL_200e67f6555a4d8b8d6f2442c7309989",
       "msg_throttle": 1
      }
     },
     "b732ae6b9e26480b81e3b7f751ff885b": {
      "model_module": "jupyter-js-widgets",
      "model_module_version": "~2.1.4",
      "model_name": "SliderStyleModel",
      "state": {
       "_model_module_version": "~2.1.4",
       "_view_module_version": "~2.1.4"
      }
     },
     "b75ca41873574ff298d35bb1065373ac": {
      "model_module": "jupyter-js-widgets",
      "model_module_version": "~2.1.4",
      "model_name": "VBoxModel",
      "state": {
       "_dom_classes": [
        "widget-interact"
       ],
       "_model_module_version": "~2.1.4",
       "_view_module_version": "~2.1.4",
       "children": [
        "IPY_MODEL_9efc8fac72d946ef802087bfaf6e2e59",
        "IPY_MODEL_f69ace58118c476d9c7e744408db4356",
        "IPY_MODEL_2737dd274b504e9ab4bae8753f1f6fe3",
        "IPY_MODEL_9075b0f75a8549ed88903981fd585f1d",
        "IPY_MODEL_9500ba81e8594ec68a241990133e5a31"
       ],
       "layout": "IPY_MODEL_a10d361e22f14e4bafdc8eeebef3093f"
      }
     },
     "b7bf1631ec664a0e9e6d920dbc4c682f": {
      "model_module": "jupyter-js-widgets",
      "model_module_version": "~2.1.4",
      "model_name": "LayoutModel",
      "state": {
       "_model_module_version": "~2.1.4",
       "_view_module_version": "~2.1.4"
      }
     },
     "b80cdf3b57ed43f0b1fa293983d0760f": {
      "model_module": "jupyter-js-widgets",
      "model_module_version": "~2.1.4",
      "model_name": "OutputModel",
      "state": {
       "_dom_classes": [],
       "_model_module": "jupyter-js-widgets",
       "_model_module_version": "~2.1.4",
       "_view_module": "jupyter-js-widgets",
       "_view_module_version": "~2.1.4",
       "layout": "IPY_MODEL_3437a94f79e345ae92e2d5a74d208f87",
       "msg_throttle": 1
      }
     },
     "b8a4691a7f25484db0399deb073ffd70": {
      "model_module": "jupyter-js-widgets",
      "model_module_version": "~2.1.4",
      "model_name": "LayoutModel",
      "state": {
       "_model_module_version": "~2.1.4",
       "_view_module_version": "~2.1.4"
      }
     },
     "bb61a99ec165404c870d9d77c5c40fa0": {
      "model_module": "jupyter-js-widgets",
      "model_module_version": "~2.1.4",
      "model_name": "OutputModel",
      "state": {
       "_dom_classes": [],
       "_model_module": "jupyter-js-widgets",
       "_model_module_version": "~2.1.4",
       "_view_module": "jupyter-js-widgets",
       "_view_module_version": "~2.1.4",
       "layout": "IPY_MODEL_a7bc9b88a1be4925ae151db5ec57d684",
       "msg_throttle": 1
      }
     },
     "bbb32d0b06c84f719d4462acd4f07aa6": {
      "model_module": "jupyter-js-widgets",
      "model_module_version": "~2.1.4",
      "model_name": "LayoutModel",
      "state": {
       "_model_module_version": "~2.1.4",
       "_view_module_version": "~2.1.4"
      }
     },
     "bbdadeb772f04d3083db5448554e1ca4": {
      "model_module": "jupyter-js-widgets",
      "model_module_version": "~2.1.4",
      "model_name": "SliderStyleModel",
      "state": {
       "_model_module_version": "~2.1.4",
       "_view_module_version": "~2.1.4"
      }
     },
     "bd785264ec744712af24e35716c323ac": {
      "model_module": "jupyter-js-widgets",
      "model_module_version": "~2.1.4",
      "model_name": "VBoxModel",
      "state": {
       "_dom_classes": [
        "widget-interact"
       ],
       "_model_module_version": "~2.1.4",
       "_view_module_version": "~2.1.4",
       "children": [
        "IPY_MODEL_af577a48f80c4b5ea4a54a1fe7ead47f",
        "IPY_MODEL_76c6ac8a7a734b0c87effa98743a2037",
        "IPY_MODEL_8506e82e5eee4afb974f462a50545ef2",
        "IPY_MODEL_0989451aa03340638207bd339cd0fe9f",
        "IPY_MODEL_1a94123e12e241d7bf6af43708e38f86"
       ],
       "layout": "IPY_MODEL_25b94cbd40ab4d88a8b32399f353fc43"
      }
     },
     "beaa6d0e00fd4db996df3ca8da5f0e71": {
      "model_module": "jupyter-js-widgets",
      "model_module_version": "~2.1.4",
      "model_name": "LayoutModel",
      "state": {
       "_model_module_version": "~2.1.4",
       "_view_module_version": "~2.1.4"
      }
     },
     "bf26d4a025284025ae35a08580896283": {
      "model_module": "jupyter-js-widgets",
      "model_module_version": "~2.1.4",
      "model_name": "SliderStyleModel",
      "state": {
       "_model_module_version": "~2.1.4",
       "_view_module_version": "~2.1.4"
      }
     },
     "bfceea41aee445efb2b29496b6996881": {
      "model_module": "jupyter-js-widgets",
      "model_module_version": "~2.1.4",
      "model_name": "IntSliderModel",
      "state": {
       "_model_module_version": "~2.1.4",
       "_view_module_version": "~2.1.4",
       "description": "n_friends",
       "layout": "IPY_MODEL_68d0d3c7fc2541d5a61fa61651e0eb60",
       "max": 20,
       "min": 1,
       "style": "IPY_MODEL_307d0247501942ef8a84374101281ffe",
       "value": 3
      }
     },
     "c41de2e8eb5a41e597056a29dfa8d13d": {
      "model_module": "jupyter-js-widgets",
      "model_module_version": "~2.1.4",
      "model_name": "LayoutModel",
      "state": {
       "_model_module_version": "~2.1.4",
       "_view_module_version": "~2.1.4"
      }
     },
     "c4d4ab7006124a52bd81951bbec85b23": {
      "model_module": "jupyter-js-widgets",
      "model_module_version": "~2.1.4",
      "model_name": "LayoutModel",
      "state": {
       "_model_module_version": "~2.1.4",
       "_view_module_version": "~2.1.4"
      }
     },
     "c5024b21029b4e68a86c58e8b69b4e49": {
      "model_module": "jupyter-js-widgets",
      "model_module_version": "~2.1.4",
      "model_name": "FloatSliderModel",
      "state": {
       "_model_module_version": "~2.1.4",
       "_view_module_version": "~2.1.4",
       "description": "p_rain",
       "layout": "IPY_MODEL_9695587a8d5c4f3096bebc0faaa89563",
       "max": 1,
       "step": 0.1,
       "value": 0.5
      }
     },
     "c631e8e9b31d4d20b3f25dbd6e398e8d": {
      "model_module": "jupyter-js-widgets",
      "model_module_version": "~2.1.4",
      "model_name": "IntSliderModel",
      "state": {
       "_model_module_version": "~2.1.4",
       "_view_module_version": "~2.1.4",
       "description": "n_say_rain",
       "layout": "IPY_MODEL_6bf88370564844aeba01ebb01e1f3ed6",
       "max": 10,
       "style": "IPY_MODEL_fd461901b5b140308bf555f555104122",
       "value": 3
      }
     },
     "c7b5bdfe6c0f42dc805ab358c468ba0c": {
      "model_module": "jupyter-js-widgets",
      "model_module_version": "~2.1.4",
      "model_name": "LayoutModel",
      "state": {
       "_model_module_version": "~2.1.4",
       "_view_module_version": "~2.1.4"
      }
     },
     "c82c9ace46154977bebb9025399e921b": {
      "model_module": "jupyter-js-widgets",
      "model_module_version": "~2.1.4",
      "model_name": "IntSliderModel",
      "state": {
       "_model_module_version": "~2.1.4",
       "_view_module_version": "~2.1.4",
       "description": "n_say_rain",
       "layout": "IPY_MODEL_79aadfe38f1e4316903a23f77c2d78c8",
       "max": 20,
       "style": "IPY_MODEL_b2c5b081236246b2b71a7bd7bdb19d6c",
       "value": 3
      }
     },
     "c85165e3bb33429ba78a101e8abe6006": {
      "model_module": "jupyter-js-widgets",
      "model_module_version": "~2.1.4",
      "model_name": "OutputModel",
      "state": {
       "_dom_classes": [],
       "_model_module": "jupyter-js-widgets",
       "_model_module_version": "~2.1.4",
       "_view_module": "jupyter-js-widgets",
       "_view_module_version": "~2.1.4",
       "layout": "IPY_MODEL_42007902f34b446cabf983cc77d35dda",
       "msg_throttle": 1
      }
     },
     "c894811b5cb843cdab71c10d41c3767a": {
      "model_module": "jupyter-js-widgets",
      "model_module_version": "~2.1.4",
      "model_name": "OutputModel",
      "state": {
       "_dom_classes": [],
       "_model_module": "jupyter-js-widgets",
       "_model_module_version": "~2.1.4",
       "_view_module": "jupyter-js-widgets",
       "_view_module_version": "~2.1.4",
       "layout": "IPY_MODEL_99e817b286204863b4185fa8b7f78087",
       "msg_throttle": 1
      }
     },
     "c9b37514e8374d299f408d5051f4934b": {
      "model_module": "jupyter-js-widgets",
      "model_module_version": "~2.1.4",
      "model_name": "IntSliderModel",
      "state": {
       "_model_module_version": "~2.1.4",
       "_view_module_version": "~2.1.4",
       "description": "n_friends",
       "layout": "IPY_MODEL_fc1b49959eee41fd9910baf7324ea300",
       "max": 20,
       "min": 1,
       "style": "IPY_MODEL_01ee81a9e0b84c2ca6f05be93e225a0d",
       "value": 20
      }
     },
     "ca71da81f8f04006b341bd41b8a667b6": {
      "model_module": "jupyter-js-widgets",
      "model_module_version": "~2.1.4",
      "model_name": "FloatSliderModel",
      "state": {
       "_model_module_version": "~2.1.4",
       "_view_module_version": "~2.1.4",
       "description": "p_rain",
       "layout": "IPY_MODEL_552779f82c484fffac64bcfece20580d",
       "max": 0.99,
       "min": 0.01,
       "step": 0.1,
       "value": 0.2
      }
     },
     "cb15195b568d4936af45ebf4b82337b7": {
      "model_module": "jupyter-js-widgets",
      "model_module_version": "~2.1.4",
      "model_name": "LayoutModel",
      "state": {
       "_model_module_version": "~2.1.4",
       "_view_module_version": "~2.1.4"
      }
     },
     "cb9ca410f6734449a21c505a4e56f8da": {
      "model_module": "jupyter-js-widgets",
      "model_module_version": "~2.1.4",
      "model_name": "FloatSliderModel",
      "state": {
       "_model_module_version": "~2.1.4",
       "_view_module_version": "~2.1.4",
       "description": "p_lying",
       "layout": "IPY_MODEL_2cc107aa6c6245e2bb2c163db5366cff",
       "max": 0.99,
       "min": 0.01,
       "step": 0.1,
       "value": 0.41
      }
     },
     "cc569f581c304603bcafcd43061149c2": {
      "model_module": "jupyter-js-widgets",
      "model_module_version": "~2.1.4",
      "model_name": "SliderStyleModel",
      "state": {
       "_model_module_version": "~2.1.4",
       "_view_module_version": "~2.1.4"
      }
     },
     "cc5da2cd179b44f5bcc37d912a5c4149": {
      "model_module": "jupyter-js-widgets",
      "model_module_version": "~2.1.4",
      "model_name": "SliderStyleModel",
      "state": {
       "_model_module_version": "~2.1.4",
       "_view_module_version": "~2.1.4"
      }
     },
     "d1e9ac30c7154e2b89bd051b0d56a020": {
      "model_module": "jupyter-js-widgets",
      "model_module_version": "~2.1.4",
      "model_name": "FloatSliderModel",
      "state": {
       "_model_module_version": "~2.1.4",
       "_view_module_version": "~2.1.4",
       "description": "p_lying",
       "layout": "IPY_MODEL_2379cdcdea5d448b902adbf9213d872e",
       "max": 0.99,
       "min": 0.01,
       "step": 0.1,
       "value": 0.3333333333333333
      }
     },
     "d26076f0451d4287932444690c06a3df": {
      "model_module": "jupyter-js-widgets",
      "model_module_version": "~2.1.4",
      "model_name": "LayoutModel",
      "state": {
       "_model_module_version": "~2.1.4",
       "_view_module_version": "~2.1.4"
      }
     },
     "d2d1a654f30c481e9d149ac43f27fb7f": {
      "model_module": "jupyter-js-widgets",
      "model_module_version": "~2.1.4",
      "model_name": "LayoutModel",
      "state": {
       "_model_module_version": "~2.1.4",
       "_view_module_version": "~2.1.4"
      }
     },
     "d337142d8810464b903613edcae41cad": {
      "model_module": "jupyter-js-widgets",
      "model_module_version": "~2.1.4",
      "model_name": "LayoutModel",
      "state": {
       "_model_module_version": "~2.1.4",
       "_view_module_version": "~2.1.4"
      }
     },
     "d6a526f58fb746349d9da65b1afeecfe": {
      "model_module": "jupyter-js-widgets",
      "model_module_version": "~2.1.4",
      "model_name": "FloatSliderModel",
      "state": {
       "_model_module_version": "~2.1.4",
       "_view_module_version": "~2.1.4",
       "description": "p_lying",
       "layout": "IPY_MODEL_1294f0ba7cca4385a26176f87335950d",
       "max": 0.99,
       "min": 0.01,
       "step": 0.1,
       "value": 0.3333333333333333
      }
     },
     "d6b369c607844657bd6a557c77e87ade": {
      "model_module": "jupyter-js-widgets",
      "model_module_version": "~2.1.4",
      "model_name": "LayoutModel",
      "state": {
       "_model_module_version": "~2.1.4",
       "_view_module_version": "~2.1.4"
      }
     },
     "d7508bcbaa574ce791836fc54cdda031": {
      "model_module": "jupyter-js-widgets",
      "model_module_version": "~2.1.4",
      "model_name": "VBoxModel",
      "state": {
       "_dom_classes": [
        "widget-interact"
       ],
       "_model_module_version": "~2.1.4",
       "_view_module_version": "~2.1.4",
       "children": [
        "IPY_MODEL_1f29682131e44ab3b00afb3602dfcd7b",
        "IPY_MODEL_88e7a017b50146e1adc64d0707ca4bf7",
        "IPY_MODEL_fd7ea8a9086e46839417797811593432",
        "IPY_MODEL_e52b48146cf94ef580ce3508d2c8993a",
        "IPY_MODEL_3db2b38befce499597dd1a75f7481bba"
       ],
       "layout": "IPY_MODEL_69bb899f4115416caa4596cf4b670b54"
      }
     },
     "da7f2f9ce57d4d7693428f5d38a0c14e": {
      "model_module": "jupyter-js-widgets",
      "model_module_version": "~2.1.4",
      "model_name": "IntSliderModel",
      "state": {
       "_model_module_version": "~2.1.4",
       "_view_module_version": "~2.1.4",
       "description": "n_friends",
       "layout": "IPY_MODEL_0b5711d8bb554327b0010f9e4711905d",
       "max": 20,
       "min": 1,
       "style": "IPY_MODEL_5be4465da27f41adadb59398ece44611",
       "value": 3
      }
     },
     "dacbda89687e41fbb5aae6babf0d0f8b": {
      "model_module": "jupyter-js-widgets",
      "model_module_version": "~2.1.4",
      "model_name": "SliderStyleModel",
      "state": {
       "_model_module_version": "~2.1.4",
       "_view_module_version": "~2.1.4"
      }
     },
     "ddde9243fcea4260bd349542638ae039": {
      "model_module": "jupyter-js-widgets",
      "model_module_version": "~2.1.4",
      "model_name": "LayoutModel",
      "state": {
       "_model_module_version": "~2.1.4",
       "_view_module_version": "~2.1.4"
      }
     },
     "de3c6ceb875f40a0b62d2bde43dcf867": {
      "model_module": "jupyter-js-widgets",
      "model_module_version": "~2.1.4",
      "model_name": "LayoutModel",
      "state": {
       "_model_module_version": "~2.1.4",
       "_view_module_version": "~2.1.4"
      }
     },
     "e209291f7bd348d885dfd02023f17eea": {
      "model_module": "jupyter-js-widgets",
      "model_module_version": "~2.1.4",
      "model_name": "LayoutModel",
      "state": {
       "_model_module_version": "~2.1.4",
       "_view_module_version": "~2.1.4"
      }
     },
     "e22643c6e8614f2e91f8acfe23059ce9": {
      "model_module": "jupyter-js-widgets",
      "model_module_version": "~2.1.4",
      "model_name": "LayoutModel",
      "state": {
       "_model_module_version": "~2.1.4",
       "_view_module_version": "~2.1.4"
      }
     },
     "e28914b70af54b46bfd6be0f87776b47": {
      "model_module": "jupyter-js-widgets",
      "model_module_version": "~2.1.4",
      "model_name": "LayoutModel",
      "state": {
       "_model_module_version": "~2.1.4",
       "_view_module_version": "~2.1.4"
      }
     },
     "e2d27b414b834ee8b0d75de5db04bf4d": {
      "model_module": "jupyter-js-widgets",
      "model_module_version": "~2.1.4",
      "model_name": "SliderStyleModel",
      "state": {
       "_model_module_version": "~2.1.4",
       "_view_module_version": "~2.1.4"
      }
     },
     "e310a45ae2eb4cb0a0dd80a73d69b37d": {
      "model_module": "jupyter-js-widgets",
      "model_module_version": "~2.1.4",
      "model_name": "IntSliderModel",
      "state": {
       "_model_module_version": "~2.1.4",
       "_view_module_version": "~2.1.4",
       "description": "n_friends",
       "layout": "IPY_MODEL_7b2d9439526547819fb1ca7a911dc362",
       "max": 20,
       "min": 1,
       "style": "IPY_MODEL_8b8ceded5fc1497089451b34d010c0f1",
       "value": 9
      }
     },
     "e52b48146cf94ef580ce3508d2c8993a": {
      "model_module": "jupyter-js-widgets",
      "model_module_version": "~2.1.4",
      "model_name": "FloatSliderModel",
      "state": {
       "_model_module_version": "~2.1.4",
       "_view_module_version": "~2.1.4",
       "description": "p_lying",
       "layout": "IPY_MODEL_0980fe9becb7457196d7c1db671bab35",
       "max": 1,
       "min": -0.3333333333333333,
       "step": 0.1,
       "value": 0.3333333333333333
      }
     },
     "e5d4206dff3c4debbdf5635d88990d27": {
      "model_module": "jupyter-js-widgets",
      "model_module_version": "~2.1.4",
      "model_name": "LayoutModel",
      "state": {
       "_model_module_version": "~2.1.4",
       "_view_module_version": "~2.1.4"
      }
     },
     "e7e91afb1d4e4a7eaa34a1daba98d491": {
      "model_module": "jupyter-js-widgets",
      "model_module_version": "~2.1.4",
      "model_name": "SliderStyleModel",
      "state": {
       "_model_module_version": "~2.1.4",
       "_view_module_version": "~2.1.4"
      }
     },
     "e86eddd92b45449eba229f3dbb16c540": {
      "model_module": "jupyter-js-widgets",
      "model_module_version": "~2.1.4",
      "model_name": "LayoutModel",
      "state": {
       "_model_module_version": "~2.1.4",
       "_view_module_version": "~2.1.4"
      }
     },
     "e8d7953d6c6b4614a2098f8b8c862bf2": {
      "model_module": "jupyter-js-widgets",
      "model_module_version": "~2.1.4",
      "model_name": "LayoutModel",
      "state": {
       "_model_module_version": "~2.1.4",
       "_view_module_version": "~2.1.4"
      }
     },
     "e9e150c0f59b41fdb8f53c835d23e6df": {
      "model_module": "jupyter-js-widgets",
      "model_module_version": "~2.1.4",
      "model_name": "OutputModel",
      "state": {
       "_dom_classes": [],
       "_model_module": "jupyter-js-widgets",
       "_model_module_version": "~2.1.4",
       "_view_module": "jupyter-js-widgets",
       "_view_module_version": "~2.1.4",
       "layout": "IPY_MODEL_1bcec0cd9716494e98fa005fd01e4eee",
       "msg_throttle": 1
      }
     },
     "ea2502b0e92a4a37bca681f24c47ae2d": {
      "model_module": "jupyter-js-widgets",
      "model_module_version": "~2.1.4",
      "model_name": "IntSliderModel",
      "state": {
       "_model_module_version": "~2.1.4",
       "_view_module_version": "~2.1.4",
       "description": "n_say_rain",
       "layout": "IPY_MODEL_7c63b5bf89cc42f98f7034fb974a70d5",
       "max": 3,
       "style": "IPY_MODEL_7756d9e6c63f47edbafa6280ee42f034"
      }
     },
     "eb3f1876d2154aa6920f8d21d39cd5fe": {
      "model_module": "jupyter-js-widgets",
      "model_module_version": "~2.1.4",
      "model_name": "LayoutModel",
      "state": {
       "_model_module_version": "~2.1.4",
       "_view_module_version": "~2.1.4"
      }
     },
     "eceac31e429b4f0c95159192dfb7acde": {
      "model_module": "jupyter-js-widgets",
      "model_module_version": "~2.1.4",
      "model_name": "SliderStyleModel",
      "state": {
       "_model_module_version": "~2.1.4",
       "_view_module_version": "~2.1.4"
      }
     },
     "edab66e590fe4f6da3757efaaf76f1db": {
      "model_module": "jupyter-js-widgets",
      "model_module_version": "~2.1.4",
      "model_name": "IntSliderModel",
      "state": {
       "_model_module_version": "~2.1.4",
       "_view_module_version": "~2.1.4",
       "description": "n_friends",
       "layout": "IPY_MODEL_c7b5bdfe6c0f42dc805ab358c468ba0c",
       "max": 20,
       "min": 1,
       "style": "IPY_MODEL_955d98d6e89c403f889a40dbfee15bee",
       "value": 3
      }
     },
     "eec6fc7d00564a35bbbf90417f8670d2": {
      "model_module": "jupyter-js-widgets",
      "model_module_version": "~2.1.4",
      "model_name": "IntSliderModel",
      "state": {
       "_model_module_version": "~2.1.4",
       "_view_module_version": "~2.1.4",
       "description": "n_friends",
       "layout": "IPY_MODEL_e8d7953d6c6b4614a2098f8b8c862bf2",
       "max": 20,
       "min": 1,
       "style": "IPY_MODEL_1f1f444e694e4c6a88c977663a7e2215",
       "value": 3
      }
     },
     "f2226a5475704820969e76848c51eeda": {
      "model_module": "jupyter-js-widgets",
      "model_module_version": "~2.1.4",
      "model_name": "LayoutModel",
      "state": {
       "_model_module_version": "~2.1.4",
       "_view_module_version": "~2.1.4"
      }
     },
     "f69ace58118c476d9c7e744408db4356": {
      "model_module": "jupyter-js-widgets",
      "model_module_version": "~2.1.4",
      "model_name": "IntSliderModel",
      "state": {
       "_model_module_version": "~2.1.4",
       "_view_module_version": "~2.1.4",
       "description": "n_friends",
       "layout": "IPY_MODEL_57569631a7a44393b6f56e2436282474",
       "max": 20,
       "min": 1,
       "style": "IPY_MODEL_5f6733467eaf46d48b380efa4dde046a",
       "value": 3
      }
     },
     "f750fbf9c68a4e2e8d88e72c75fc7b0a": {
      "model_module": "jupyter-js-widgets",
      "model_module_version": "~2.1.4",
      "model_name": "VBoxModel",
      "state": {
       "_dom_classes": [
        "widget-interact"
       ],
       "_model_module_version": "~2.1.4",
       "_view_module_version": "~2.1.4",
       "children": [
        "IPY_MODEL_867d24728d504e36bd78097f92dd59fc",
        "IPY_MODEL_773751cb30674b5baa1216348e07d4f2",
        "IPY_MODEL_ae601121ab3f4e6d9f718e5ea443fa67",
        "IPY_MODEL_396b690e8ecb427285b2223d6f12ff04",
        "IPY_MODEL_27e4b7269a4942bbbb48b00db1f269e9"
       ],
       "layout": "IPY_MODEL_7fc470b8223841d78588be261db27d62"
      }
     },
     "f8f3843a0b654dd98bd2424ea1750b70": {
      "model_module": "jupyter-js-widgets",
      "model_module_version": "~2.1.4",
      "model_name": "OutputModel",
      "state": {
       "_dom_classes": [],
       "_model_module": "jupyter-js-widgets",
       "_model_module_version": "~2.1.4",
       "_view_module": "jupyter-js-widgets",
       "_view_module_version": "~2.1.4",
       "layout": "IPY_MODEL_3cd4b18735ac4a10ba57372f5a6cd568",
       "msg_throttle": 1
      }
     },
     "f938280316c84157b1809458e23faa14": {
      "model_module": "jupyter-js-widgets",
      "model_module_version": "~2.1.4",
      "model_name": "SliderStyleModel",
      "state": {
       "_model_module_version": "~2.1.4",
       "_view_module_version": "~2.1.4"
      }
     },
     "f94a3937e33143c39df9ced1c92970c4": {
      "model_module": "jupyter-js-widgets",
      "model_module_version": "~2.1.4",
      "model_name": "LayoutModel",
      "state": {
       "_model_module_version": "~2.1.4",
       "_view_module_version": "~2.1.4"
      }
     },
     "f984e558dd264585a5c70f95fee93f20": {
      "model_module": "jupyter-js-widgets",
      "model_module_version": "~2.1.4",
      "model_name": "LayoutModel",
      "state": {
       "_model_module_version": "~2.1.4",
       "_view_module_version": "~2.1.4"
      }
     },
     "fb54b92471e745919a8f0635eb00cc78": {
      "model_module": "jupyter-js-widgets",
      "model_module_version": "~2.1.4",
      "model_name": "OutputModel",
      "state": {
       "_dom_classes": [],
       "_model_module": "jupyter-js-widgets",
       "_model_module_version": "~2.1.4",
       "_view_module": "jupyter-js-widgets",
       "_view_module_version": "~2.1.4",
       "layout": "IPY_MODEL_9d27f12d36a64f238e483c7d835854ed",
       "msg_throttle": 1
      }
     },
     "fb78f09bec674e548aa0b58ed98396fb": {
      "model_module": "jupyter-js-widgets",
      "model_module_version": "~2.1.4",
      "model_name": "FloatSliderModel",
      "state": {
       "_model_module_version": "~2.1.4",
       "_view_module_version": "~2.1.4",
       "description": "p_lying",
       "layout": "IPY_MODEL_f94a3937e33143c39df9ced1c92970c4",
       "max": 1,
       "min": -0.3333333333333333,
       "step": 0.1,
       "value": 0.3333333333333333
      }
     },
     "fc1b49959eee41fd9910baf7324ea300": {
      "model_module": "jupyter-js-widgets",
      "model_module_version": "~2.1.4",
      "model_name": "LayoutModel",
      "state": {
       "_model_module_version": "~2.1.4",
       "_view_module_version": "~2.1.4"
      }
     },
     "fd461901b5b140308bf555f555104122": {
      "model_module": "jupyter-js-widgets",
      "model_module_version": "~2.1.4",
      "model_name": "SliderStyleModel",
      "state": {
       "_model_module_version": "~2.1.4",
       "_view_module_version": "~2.1.4"
      }
     },
     "fd7ea8a9086e46839417797811593432": {
      "model_module": "jupyter-js-widgets",
      "model_module_version": "~2.1.4",
      "model_name": "FloatSliderModel",
      "state": {
       "_model_module_version": "~2.1.4",
       "_view_module_version": "~2.1.4",
       "description": "p_rain",
       "layout": "IPY_MODEL_cb15195b568d4936af45ebf4b82337b7",
       "max": 0.6000000000000001,
       "min": -0.2,
       "step": 0.1,
       "value": 0.2
      }
     },
     "fe44a58e3384485f8b2d5acd62e4b1c6": {
      "model_module": "jupyter-js-widgets",
      "model_module_version": "~2.1.4",
      "model_name": "LayoutModel",
      "state": {
       "_model_module_version": "~2.1.4",
       "_view_module_version": "~2.1.4"
      }
     },
     "ff88220d629b43e7b8fca3297443c30e": {
      "model_module": "jupyter-js-widgets",
      "model_module_version": "~2.1.4",
      "model_name": "SliderStyleModel",
      "state": {
       "_model_module_version": "~2.1.4",
       "_view_module_version": "~2.1.4"
      }
     }
    },
    "version_major": 1,
    "version_minor": 0
   }
  }
 },
 "nbformat": 4,
 "nbformat_minor": 2
}
